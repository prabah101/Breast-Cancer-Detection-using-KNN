{
 "cells": [
  {
   "cell_type": "markdown",
   "id": "7f160bab",
   "metadata": {},
   "source": [
    "# KNN on Breast Cancer Wisconsin (Diagnostic) Data Set"
   ]
  },
  {
   "cell_type": "markdown",
   "id": "306196d4",
   "metadata": {},
   "source": [
    "## Abstract"
   ]
  },
  {
   "cell_type": "markdown",
   "id": "a71d7caf",
   "metadata": {},
   "source": [
    "Breast cancer is one of the common occurring cancer in women across the globe, affecting about significant percentage of women at some point in their life. Even with the development of new technologies in the field of medicine and research, the accurate diagnosis of this fatal disease outcome is one of the most important tasks needed to be done till date. Our objective is to develop a sophisticated and automated diagnostic system that yields accurate and reproducible results for predicting whether a breast cancer tumour is benign (non-cancerous) or malignant (cancerous). We have implemented K\u0002Nearest Neighbour Algorithm using various normalization techniques and distance functions at different values of K.\n",
    "\n",
    "A comparative study using various normalization techniques, i.e., Min-Max normalization, Z-Score normalization and Decimal Scaling normalization, and different distance metrics, i.e., Manhattan distance, Euclidean distance, Chebyshev distance and Cosine distance has been done. The accuracy of each variation is tested and the maximum accurate prediction is considered for the result. \n",
    "\n",
    "Highest accuracy of 99.12% is achieved, with KNN implementation using Euclidean and Manhattan distance metric, at K=20 and K=26 respectively, along with Min/Max normalization and with Euclidean and Manhattan distance metric, at K=15 and K=34 respectively, along with Z-Score normalization "
   ]
  },
  {
   "cell_type": "markdown",
   "id": "87fc9455",
   "metadata": {},
   "source": [
    "## Introduction"
   ]
  },
  {
   "cell_type": "markdown",
   "id": "bfe5044f",
   "metadata": {},
   "source": [
    "Breast cancer is the second most common type of cancer in women and one of the leading causes of cancer related deaths. As per statistics (Berry, 2017), the breast cancer occurs more in western countries when compared to developing countries. On the contrary, the death rates due to breast cancer, from the developing countries, disease are higher as compared to the death rates, due to the same, from developed countries. It also states that the rate of breast cancer per 100,000 women is higher in the U.S., Canada, and Europe. Breast cancer occurs when an infected tissue (tumour) begins to spread quickly. These cancerous cells can move anywhere within the body causing further damage"
   ]
  },
  {
   "cell_type": "markdown",
   "id": "88140de5",
   "metadata": {},
   "source": [
    "There are two types of breast cancer tumours:\n",
    "1. Non-cancerous or ‘benign’\n",
    "2. Cancerous or ‘malignant’"
   ]
  },
  {
   "cell_type": "markdown",
   "id": "80f615d8",
   "metadata": {},
   "source": [
    "Timely prediction requires a precise and authentic methodology to distinguish between benign breast tumors from malignant ones. Nowadays, diagnostic tests such as Surgical Biopsy have been replaced by Fine Needle Aspiration (FNA)."
   ]
  },
  {
   "cell_type": "markdown",
   "id": "24a5ce57",
   "metadata": {},
   "source": [
    "However, the accurate prediction of fatal disease outcome is still one of the most challenging tasks needed to be done till date and various Machine Learning techniques have become a popular tool to resolve this problem. Machine learning predictive analytics and pattern recognition have achieved 89% accuracy rate (Yun Liu, 2017). That’s quite a bit ahead of an average score of 73% for the existing system of surgical biopsy. Also, using machine learning techniques, there is relative reduction in cost as less human effort is required. Furthermore, the fast speed at which machine learning consumes data allows the system to produce real-time data and predictions in a shorter duration of time"
   ]
  },
  {
   "cell_type": "markdown",
   "id": "1b523d31",
   "metadata": {},
   "source": [
    "The present paper measures the performance of K-Nearest Neighbour algorithm under various normalization techniques and distance metrics. Different distance metrics considered for the same include Manhattan distance, Euclidean distance, Chebyshev distance and Cosine distance and the different normalization techniques include Min-Max, Z-Score and Decimal Scaling. Our aim is to check the efficiency of these approaches at different values of ‘K’. The accuracy of each normalization technique is tested for every distance metric and the maximum accurate prediction is considered for the final output. The paper is organized as follows. In section 2, the related work has been explored. Context of the experiment is proposed in section 3. Whereas section 4, elaborates the selected inputs and the methods undertaken. \n",
    "In section 5, experimental outcomes are discussed. Finally, section 6 concludes the paper."
   ]
  },
  {
   "cell_type": "markdown",
   "id": "d728bb6d",
   "metadata": {},
   "source": [
    "## About Disease"
   ]
  },
  {
   "cell_type": "markdown",
   "id": "8e00c556",
   "metadata": {},
   "source": [
    "Breast cancer is one of the most common diseases in women aged 40 to 59 years with multiple associated risk factors: genetic, environmental and behavioral factors, characterized by the disordered proliferation and constant growth of cells in this organ. Inflammatory breast cancer is rare and usually presents aggressively, compromising the entire breast, leaving it swollen and hyperemic [5, 6]. The initial symptomatology is a small nodule in the breast, usually painless and can grow slowly or quickly depending on its carcinogenesis. It must be approximately one centimeter in diameter for breast cancer to become palpable. And it takes years for it to reach this size, so early diagnosis is even more difficult, as eighty percent of cancers manifest as painless tumors, where only a minority, 10% of patients complain of pain without the perception of the tumor. There is a wide variation in the clinical course of breast cancer, as well as the length of time that patients can expect to live. An array of still-unknown mechanisms, such as the patient’s immune, hormonal, and nutritional condition, influences this variance, such as the difference in tumour duplication speed and tumour metastatic potential.\n",
    "\n",
    "Whether a tumor is benign or malignant is determined by pathological examination.\n",
    "\n",
    "Benign tumors can be removed surgically and do not reappear. Most importantly, as we mentioned above, benign tumor cells do not invade other tissues and do not spread to other parts of the body. In other words, these tumors are not life-threatening.\n",
    "\n",
    "Cancerous tumours are those that have undergone a malignant transformation. There is an uncontrolled proliferation of cancer cells. However, they grow and multiply far more quickly than benign tumors. They enter the body and cause harm to the nearby tissues and organs. Even if a tumor is malignant, cancer cells can escape from it and travel through the bloodstream or lymphatic system. Cancerous tumors, such as those found in the breast and elsewhere, develop in this manner.\n",
    "\n",
    "When a tumor grows in the breast, it is known as breast cancer. Second, only to lung cancer, breast cancer is the most common cancer globally in terms of incidence. Breast cancer is estimated to affect one in eight women at some point in their lives [7]. Even though men can be affected, women are 100 times more likely than men to be affected. The modern, Western lifestyle is to blame for a rise in breast cancer incidence during the 1970s. More people in North America and Europe are affected by it than any other region. If breast cancer is detected early, the patient has a 96% chance of survival before it spreads. One woman in 44000 dies from breast cancer each year. The best preventive method against breast cancer is early detection. There is only one way to know whether the mass in the breast is benign (benign) or malignant (malignant). But some features can give an average idea to the examining physician about what that mass looks like "
   ]
  },
  {
   "cell_type": "markdown",
   "id": "20418a96",
   "metadata": {},
   "source": [
    "## Referenced Paper\n",
    "### Breast Cancer Detection Using K-Nearest Neighbour Algorithm\n",
    " by Shagun Chawla, Rajat Kumar, Ekansh Aggarwal, Sarthak Swain\n",
    " \n",
    "### Published in International Journal of Computational Intelligence & IoT, Vol. 2, No. 4, 2018\n",
    "\n",
    "[Link1](https://papers.ssrn.com/sol3/papers.cfm?abstract_id=3361553)\n",
    "[Link2](https://deliverypdf.ssrn.com/delivery.php?ID=824100098007121001105028075017001090038051063013063017078065097109101084112121080065039020017097126100053082028066016070068074045032091044031108085027120127025107075022037076016123092066085000113120066123065109113099025092072078010122097090021093110085&EXT=pdf&INDEX=TRUE)"
   ]
  },
  {
   "cell_type": "markdown",
   "id": "981e0e27",
   "metadata": {},
   "source": [
    "# Motivation\n",
    "\n",
    "k-Nearest Neighbours is a powerful yet simple **classification algorithm**. It makes **predictions** by comparing new data points to its k-nearest data points and assigning a class based on the **majority class** of its neighbours. \n",
    "\n",
    "Note that there is **no training phase** like in other machine learning algorithms. Instead, the training set just gets saved for the prediction phase later."
   ]
  },
  {
   "cell_type": "markdown",
   "id": "765eaae6",
   "metadata": {},
   "source": [
    "In K-NN, an object is classified by the majority of its neighbours. The value of K determines the number of neighbours to be considered for the classification. Figure 1 depicts the flow chart of K-NN. In the test data, we select the distance metric and k value to be used. Here k value represents the number of neighbours to be considered for prediction. After based on distance selected, difference of test data from each training sample is computed. Then k minimum distances are selected, based on the majority of their category that class is assigned to the test data"
   ]
  },
  {
   "cell_type": "markdown",
   "id": "bf312cb0",
   "metadata": {},
   "source": [
    "<center>\n",
    "<img src='https://static.javatpoint.com/tutorial/machine-learning/images/k-nearest-neighbor-algorithm-for-machine-learning2.png' width=500>\n",
    "</center> "
   ]
  },
  {
   "cell_type": "markdown",
   "id": "bc1e1343",
   "metadata": {},
   "source": [
    "**Choosing the value of k:**\n",
    "* The algorithms performance can be **sensitive the value of k**. When k is small, the model is **sensitive to noise** and is prone to **overfitting** whereas large values of k can lead to **underfitting**, especially if there is class inbalance.\n",
    "* When the number of classes is 2, **k should be an odd number** to prevent any 'tied votes' when making predictions.\n",
    "* The value of k should be **bigger than the number of classes** for similar reasons. "
   ]
  },
  {
   "cell_type": "markdown",
   "id": "c060504b",
   "metadata": {},
   "source": [
    "<center>\n",
    "<img src='https://milliams.com/courses/applied_data_analysis/knn.gif' width=350>\n",
    "</center>"
   ]
  },
  {
   "cell_type": "markdown",
   "id": "244e9051",
   "metadata": {},
   "source": [
    "**Metrics:**\n",
    "\n",
    "The meaning of '**nearest**' depends on what **metric** you use. Usually, **Euclidean distance** is used but others like Manhattan and Minkowski distance can be used as well."
   ]
  },
  {
   "cell_type": "markdown",
   "id": "8fcdfc6a",
   "metadata": {},
   "source": [
    "<center>\n",
    "<img src='https://i.postimg.cc/SQLhv9Dn/1-v-At-QZb-ROu-Tdp36a-QQ8cq-BA.png' width=600>\n",
    "</center>"
   ]
  },
  {
   "cell_type": "markdown",
   "id": "ef9bbf1c",
   "metadata": {},
   "source": [
    "# Data\n",
    "\n",
    "We will apply the kNN algorithm on the famous **UCI breast cancer dataset**. This is a **binary classification** problem where the goal is to predict whether a patient has breast cancer or not using several features extracted from images."
   ]
  },
  {
   "cell_type": "markdown",
   "id": "39436538",
   "metadata": {},
   "source": [
    "# About Dataset\n",
    "\n",
    "Features are computed from a digitized image of a fine needle aspirate (FNA) of a breast mass. They describe characteristics of the cell nuclei present in the image.\n",
    "n the 3-dimensional space is that described in: [K. P. Bennett and O. L. Mangasarian: \"Robust Linear Programming Discrimination of Two Linearly Inseparable Sets\", Optimization Methods and Software 1, 1992, 23-34].\n",
    "\n",
    "This database is also available through the UW CS ftp server:\n",
    "ftp ftp.cs.wisc.edu\n",
    "cd math-prog/cpo-dataset/machine-learn/WDBC/\n",
    "\n",
    "Also can be found on UCI Machine Learning Repository: https://archive.ics.uci.edu/ml/datasets/Breast+Cancer+Wisconsin+%28Diagnostic%29\n",
    "\n",
    "It is also available in https://www.kaggle.com/datasets/uciml/breast-cancer-wisconsin-data\n",
    "\n",
    "Attribute Information:\n",
    "\n",
    "1) ID number\n",
    "\n",
    "2) Diagnosis (M = malignant, B = benign)\n",
    "3-32)\n",
    "\n",
    "Ten real-valued features are computed for each cell nucleus:\n",
    "\n",
    "a) radius (mean of distances from center to points on the perimeter)\n",
    "\n",
    "b) texture (standard deviation of gray-scale values)\n",
    "\n",
    "c) perimeter\n",
    "\n",
    "d) area\n",
    "\n",
    "e) smoothness (local variation in radius lengths)\n",
    "\n",
    "f) compactness (perimeter^2 / area - 1.0)\n",
    "\n",
    "g) concavity (severity of concave portions of the contour)\n",
    "\n",
    "h) concave points (number of concave portions of the contour)\n",
    "\n",
    "i) symmetry\n",
    "\n",
    "j) fractal dimension (\"coastline approximation\" - 1)\n",
    "\n",
    "The mean, standard error and \"worst\" or largest (mean of the three\n",
    "largest values) of these features were computed for each image,\n",
    "resulting in 30 features. For instance, field 3 is Mean Radius, field\n",
    "13 is Radius SE, field 23 is Worst Radius.\n",
    "\n",
    "All feature values are recoded with four significant digits.\n",
    "\n",
    "Missing attribute values: none\n",
    "\n",
    "Class distribution: 357 benign, 212 malignant"
   ]
  },
  {
   "cell_type": "markdown",
   "id": "8975f95d",
   "metadata": {},
   "source": [
    "### Importing Libraries"
   ]
  },
  {
   "cell_type": "code",
   "execution_count": 1,
   "id": "4bf94630",
   "metadata": {},
   "outputs": [],
   "source": [
    "import numpy as np\n",
    "import matplotlib.pyplot as plt\n",
    "import pandas as pd\n",
    "import seaborn as sns\n",
    "import scipy as sc\n",
    "\n",
    "from sklearn.model_selection import train_test_split\n",
    "from scipy import stats\n",
    "import time\n",
    "\n",
    "from sklearn.neighbors import KNeighborsClassifier\n",
    "from sklearn.metrics import confusion_matrix, accuracy_score\n",
    "\n",
    "\n",
    "%matplotlib inline\n"
   ]
  },
  {
   "cell_type": "markdown",
   "id": "0c677084",
   "metadata": {},
   "source": [
    "### Importing Dataset"
   ]
  },
  {
   "cell_type": "code",
   "execution_count": 2,
   "id": "ad8b45bd",
   "metadata": {},
   "outputs": [
    {
     "data": {
      "text/html": [
       "<div>\n",
       "<style scoped>\n",
       "    .dataframe tbody tr th:only-of-type {\n",
       "        vertical-align: middle;\n",
       "    }\n",
       "\n",
       "    .dataframe tbody tr th {\n",
       "        vertical-align: top;\n",
       "    }\n",
       "\n",
       "    .dataframe thead th {\n",
       "        text-align: right;\n",
       "    }\n",
       "</style>\n",
       "<table border=\"1\" class=\"dataframe\">\n",
       "  <thead>\n",
       "    <tr style=\"text-align: right;\">\n",
       "      <th></th>\n",
       "      <th>diagnosis</th>\n",
       "      <th>radius_mean</th>\n",
       "      <th>texture_mean</th>\n",
       "      <th>perimeter_mean</th>\n",
       "      <th>area_mean</th>\n",
       "      <th>smoothness_mean</th>\n",
       "      <th>compactness_mean</th>\n",
       "      <th>concavity_mean</th>\n",
       "      <th>concave points_mean</th>\n",
       "      <th>symmetry_mean</th>\n",
       "      <th>...</th>\n",
       "      <th>radius_worst</th>\n",
       "      <th>texture_worst</th>\n",
       "      <th>perimeter_worst</th>\n",
       "      <th>area_worst</th>\n",
       "      <th>smoothness_worst</th>\n",
       "      <th>compactness_worst</th>\n",
       "      <th>concavity_worst</th>\n",
       "      <th>concave points_worst</th>\n",
       "      <th>symmetry_worst</th>\n",
       "      <th>fractal_dimension_worst</th>\n",
       "    </tr>\n",
       "  </thead>\n",
       "  <tbody>\n",
       "    <tr>\n",
       "      <th>0</th>\n",
       "      <td>1</td>\n",
       "      <td>17.99</td>\n",
       "      <td>10.38</td>\n",
       "      <td>122.80</td>\n",
       "      <td>1001.0</td>\n",
       "      <td>0.11840</td>\n",
       "      <td>0.27760</td>\n",
       "      <td>0.30010</td>\n",
       "      <td>0.14710</td>\n",
       "      <td>0.2419</td>\n",
       "      <td>...</td>\n",
       "      <td>25.380</td>\n",
       "      <td>17.33</td>\n",
       "      <td>184.60</td>\n",
       "      <td>2019.0</td>\n",
       "      <td>0.16220</td>\n",
       "      <td>0.66560</td>\n",
       "      <td>0.7119</td>\n",
       "      <td>0.2654</td>\n",
       "      <td>0.4601</td>\n",
       "      <td>0.11890</td>\n",
       "    </tr>\n",
       "    <tr>\n",
       "      <th>1</th>\n",
       "      <td>1</td>\n",
       "      <td>20.57</td>\n",
       "      <td>17.77</td>\n",
       "      <td>132.90</td>\n",
       "      <td>1326.0</td>\n",
       "      <td>0.08474</td>\n",
       "      <td>0.07864</td>\n",
       "      <td>0.08690</td>\n",
       "      <td>0.07017</td>\n",
       "      <td>0.1812</td>\n",
       "      <td>...</td>\n",
       "      <td>24.990</td>\n",
       "      <td>23.41</td>\n",
       "      <td>158.80</td>\n",
       "      <td>1956.0</td>\n",
       "      <td>0.12380</td>\n",
       "      <td>0.18660</td>\n",
       "      <td>0.2416</td>\n",
       "      <td>0.1860</td>\n",
       "      <td>0.2750</td>\n",
       "      <td>0.08902</td>\n",
       "    </tr>\n",
       "    <tr>\n",
       "      <th>2</th>\n",
       "      <td>1</td>\n",
       "      <td>19.69</td>\n",
       "      <td>21.25</td>\n",
       "      <td>130.00</td>\n",
       "      <td>1203.0</td>\n",
       "      <td>0.10960</td>\n",
       "      <td>0.15990</td>\n",
       "      <td>0.19740</td>\n",
       "      <td>0.12790</td>\n",
       "      <td>0.2069</td>\n",
       "      <td>...</td>\n",
       "      <td>23.570</td>\n",
       "      <td>25.53</td>\n",
       "      <td>152.50</td>\n",
       "      <td>1709.0</td>\n",
       "      <td>0.14440</td>\n",
       "      <td>0.42450</td>\n",
       "      <td>0.4504</td>\n",
       "      <td>0.2430</td>\n",
       "      <td>0.3613</td>\n",
       "      <td>0.08758</td>\n",
       "    </tr>\n",
       "    <tr>\n",
       "      <th>3</th>\n",
       "      <td>1</td>\n",
       "      <td>11.42</td>\n",
       "      <td>20.38</td>\n",
       "      <td>77.58</td>\n",
       "      <td>386.1</td>\n",
       "      <td>0.14250</td>\n",
       "      <td>0.28390</td>\n",
       "      <td>0.24140</td>\n",
       "      <td>0.10520</td>\n",
       "      <td>0.2597</td>\n",
       "      <td>...</td>\n",
       "      <td>14.910</td>\n",
       "      <td>26.50</td>\n",
       "      <td>98.87</td>\n",
       "      <td>567.7</td>\n",
       "      <td>0.20980</td>\n",
       "      <td>0.86630</td>\n",
       "      <td>0.6869</td>\n",
       "      <td>0.2575</td>\n",
       "      <td>0.6638</td>\n",
       "      <td>0.17300</td>\n",
       "    </tr>\n",
       "    <tr>\n",
       "      <th>4</th>\n",
       "      <td>1</td>\n",
       "      <td>20.29</td>\n",
       "      <td>14.34</td>\n",
       "      <td>135.10</td>\n",
       "      <td>1297.0</td>\n",
       "      <td>0.10030</td>\n",
       "      <td>0.13280</td>\n",
       "      <td>0.19800</td>\n",
       "      <td>0.10430</td>\n",
       "      <td>0.1809</td>\n",
       "      <td>...</td>\n",
       "      <td>22.540</td>\n",
       "      <td>16.67</td>\n",
       "      <td>152.20</td>\n",
       "      <td>1575.0</td>\n",
       "      <td>0.13740</td>\n",
       "      <td>0.20500</td>\n",
       "      <td>0.4000</td>\n",
       "      <td>0.1625</td>\n",
       "      <td>0.2364</td>\n",
       "      <td>0.07678</td>\n",
       "    </tr>\n",
       "    <tr>\n",
       "      <th>...</th>\n",
       "      <td>...</td>\n",
       "      <td>...</td>\n",
       "      <td>...</td>\n",
       "      <td>...</td>\n",
       "      <td>...</td>\n",
       "      <td>...</td>\n",
       "      <td>...</td>\n",
       "      <td>...</td>\n",
       "      <td>...</td>\n",
       "      <td>...</td>\n",
       "      <td>...</td>\n",
       "      <td>...</td>\n",
       "      <td>...</td>\n",
       "      <td>...</td>\n",
       "      <td>...</td>\n",
       "      <td>...</td>\n",
       "      <td>...</td>\n",
       "      <td>...</td>\n",
       "      <td>...</td>\n",
       "      <td>...</td>\n",
       "      <td>...</td>\n",
       "    </tr>\n",
       "    <tr>\n",
       "      <th>564</th>\n",
       "      <td>1</td>\n",
       "      <td>21.56</td>\n",
       "      <td>22.39</td>\n",
       "      <td>142.00</td>\n",
       "      <td>1479.0</td>\n",
       "      <td>0.11100</td>\n",
       "      <td>0.11590</td>\n",
       "      <td>0.24390</td>\n",
       "      <td>0.13890</td>\n",
       "      <td>0.1726</td>\n",
       "      <td>...</td>\n",
       "      <td>25.450</td>\n",
       "      <td>26.40</td>\n",
       "      <td>166.10</td>\n",
       "      <td>2027.0</td>\n",
       "      <td>0.14100</td>\n",
       "      <td>0.21130</td>\n",
       "      <td>0.4107</td>\n",
       "      <td>0.2216</td>\n",
       "      <td>0.2060</td>\n",
       "      <td>0.07115</td>\n",
       "    </tr>\n",
       "    <tr>\n",
       "      <th>565</th>\n",
       "      <td>1</td>\n",
       "      <td>20.13</td>\n",
       "      <td>28.25</td>\n",
       "      <td>131.20</td>\n",
       "      <td>1261.0</td>\n",
       "      <td>0.09780</td>\n",
       "      <td>0.10340</td>\n",
       "      <td>0.14400</td>\n",
       "      <td>0.09791</td>\n",
       "      <td>0.1752</td>\n",
       "      <td>...</td>\n",
       "      <td>23.690</td>\n",
       "      <td>38.25</td>\n",
       "      <td>155.00</td>\n",
       "      <td>1731.0</td>\n",
       "      <td>0.11660</td>\n",
       "      <td>0.19220</td>\n",
       "      <td>0.3215</td>\n",
       "      <td>0.1628</td>\n",
       "      <td>0.2572</td>\n",
       "      <td>0.06637</td>\n",
       "    </tr>\n",
       "    <tr>\n",
       "      <th>566</th>\n",
       "      <td>1</td>\n",
       "      <td>16.60</td>\n",
       "      <td>28.08</td>\n",
       "      <td>108.30</td>\n",
       "      <td>858.1</td>\n",
       "      <td>0.08455</td>\n",
       "      <td>0.10230</td>\n",
       "      <td>0.09251</td>\n",
       "      <td>0.05302</td>\n",
       "      <td>0.1590</td>\n",
       "      <td>...</td>\n",
       "      <td>18.980</td>\n",
       "      <td>34.12</td>\n",
       "      <td>126.70</td>\n",
       "      <td>1124.0</td>\n",
       "      <td>0.11390</td>\n",
       "      <td>0.30940</td>\n",
       "      <td>0.3403</td>\n",
       "      <td>0.1418</td>\n",
       "      <td>0.2218</td>\n",
       "      <td>0.07820</td>\n",
       "    </tr>\n",
       "    <tr>\n",
       "      <th>567</th>\n",
       "      <td>1</td>\n",
       "      <td>20.60</td>\n",
       "      <td>29.33</td>\n",
       "      <td>140.10</td>\n",
       "      <td>1265.0</td>\n",
       "      <td>0.11780</td>\n",
       "      <td>0.27700</td>\n",
       "      <td>0.35140</td>\n",
       "      <td>0.15200</td>\n",
       "      <td>0.2397</td>\n",
       "      <td>...</td>\n",
       "      <td>25.740</td>\n",
       "      <td>39.42</td>\n",
       "      <td>184.60</td>\n",
       "      <td>1821.0</td>\n",
       "      <td>0.16500</td>\n",
       "      <td>0.86810</td>\n",
       "      <td>0.9387</td>\n",
       "      <td>0.2650</td>\n",
       "      <td>0.4087</td>\n",
       "      <td>0.12400</td>\n",
       "    </tr>\n",
       "    <tr>\n",
       "      <th>568</th>\n",
       "      <td>0</td>\n",
       "      <td>7.76</td>\n",
       "      <td>24.54</td>\n",
       "      <td>47.92</td>\n",
       "      <td>181.0</td>\n",
       "      <td>0.05263</td>\n",
       "      <td>0.04362</td>\n",
       "      <td>0.00000</td>\n",
       "      <td>0.00000</td>\n",
       "      <td>0.1587</td>\n",
       "      <td>...</td>\n",
       "      <td>9.456</td>\n",
       "      <td>30.37</td>\n",
       "      <td>59.16</td>\n",
       "      <td>268.6</td>\n",
       "      <td>0.08996</td>\n",
       "      <td>0.06444</td>\n",
       "      <td>0.0000</td>\n",
       "      <td>0.0000</td>\n",
       "      <td>0.2871</td>\n",
       "      <td>0.07039</td>\n",
       "    </tr>\n",
       "  </tbody>\n",
       "</table>\n",
       "<p>569 rows × 31 columns</p>\n",
       "</div>"
      ],
      "text/plain": [
       "     diagnosis  radius_mean  texture_mean  perimeter_mean  area_mean  \\\n",
       "0            1        17.99         10.38          122.80     1001.0   \n",
       "1            1        20.57         17.77          132.90     1326.0   \n",
       "2            1        19.69         21.25          130.00     1203.0   \n",
       "3            1        11.42         20.38           77.58      386.1   \n",
       "4            1        20.29         14.34          135.10     1297.0   \n",
       "..         ...          ...           ...             ...        ...   \n",
       "564          1        21.56         22.39          142.00     1479.0   \n",
       "565          1        20.13         28.25          131.20     1261.0   \n",
       "566          1        16.60         28.08          108.30      858.1   \n",
       "567          1        20.60         29.33          140.10     1265.0   \n",
       "568          0         7.76         24.54           47.92      181.0   \n",
       "\n",
       "     smoothness_mean  compactness_mean  concavity_mean  concave points_mean  \\\n",
       "0            0.11840           0.27760         0.30010              0.14710   \n",
       "1            0.08474           0.07864         0.08690              0.07017   \n",
       "2            0.10960           0.15990         0.19740              0.12790   \n",
       "3            0.14250           0.28390         0.24140              0.10520   \n",
       "4            0.10030           0.13280         0.19800              0.10430   \n",
       "..               ...               ...             ...                  ...   \n",
       "564          0.11100           0.11590         0.24390              0.13890   \n",
       "565          0.09780           0.10340         0.14400              0.09791   \n",
       "566          0.08455           0.10230         0.09251              0.05302   \n",
       "567          0.11780           0.27700         0.35140              0.15200   \n",
       "568          0.05263           0.04362         0.00000              0.00000   \n",
       "\n",
       "     symmetry_mean  ...  radius_worst  texture_worst  perimeter_worst  \\\n",
       "0           0.2419  ...        25.380          17.33           184.60   \n",
       "1           0.1812  ...        24.990          23.41           158.80   \n",
       "2           0.2069  ...        23.570          25.53           152.50   \n",
       "3           0.2597  ...        14.910          26.50            98.87   \n",
       "4           0.1809  ...        22.540          16.67           152.20   \n",
       "..             ...  ...           ...            ...              ...   \n",
       "564         0.1726  ...        25.450          26.40           166.10   \n",
       "565         0.1752  ...        23.690          38.25           155.00   \n",
       "566         0.1590  ...        18.980          34.12           126.70   \n",
       "567         0.2397  ...        25.740          39.42           184.60   \n",
       "568         0.1587  ...         9.456          30.37            59.16   \n",
       "\n",
       "     area_worst  smoothness_worst  compactness_worst  concavity_worst  \\\n",
       "0        2019.0           0.16220            0.66560           0.7119   \n",
       "1        1956.0           0.12380            0.18660           0.2416   \n",
       "2        1709.0           0.14440            0.42450           0.4504   \n",
       "3         567.7           0.20980            0.86630           0.6869   \n",
       "4        1575.0           0.13740            0.20500           0.4000   \n",
       "..          ...               ...                ...              ...   \n",
       "564      2027.0           0.14100            0.21130           0.4107   \n",
       "565      1731.0           0.11660            0.19220           0.3215   \n",
       "566      1124.0           0.11390            0.30940           0.3403   \n",
       "567      1821.0           0.16500            0.86810           0.9387   \n",
       "568       268.6           0.08996            0.06444           0.0000   \n",
       "\n",
       "     concave points_worst  symmetry_worst  fractal_dimension_worst  \n",
       "0                  0.2654          0.4601                  0.11890  \n",
       "1                  0.1860          0.2750                  0.08902  \n",
       "2                  0.2430          0.3613                  0.08758  \n",
       "3                  0.2575          0.6638                  0.17300  \n",
       "4                  0.1625          0.2364                  0.07678  \n",
       "..                    ...             ...                      ...  \n",
       "564                0.2216          0.2060                  0.07115  \n",
       "565                0.1628          0.2572                  0.06637  \n",
       "566                0.1418          0.2218                  0.07820  \n",
       "567                0.2650          0.4087                  0.12400  \n",
       "568                0.0000          0.2871                  0.07039  \n",
       "\n",
       "[569 rows x 31 columns]"
      ]
     },
     "execution_count": 2,
     "metadata": {},
     "output_type": "execute_result"
    }
   ],
   "source": [
    "df = pd.read_csv('data.csv')\n",
    "df"
   ]
  },
  {
   "cell_type": "markdown",
   "id": "817d7868",
   "metadata": {},
   "source": [
    "### Data preproccesing"
   ]
  },
  {
   "cell_type": "code",
   "execution_count": 3,
   "id": "79e0f053",
   "metadata": {},
   "outputs": [
    {
     "data": {
      "text/plain": [
       "0"
      ]
     },
     "execution_count": 3,
     "metadata": {},
     "output_type": "execute_result"
    }
   ],
   "source": [
    "df.duplicated().sum() "
   ]
  },
  {
   "cell_type": "code",
   "execution_count": 4,
   "id": "842796db",
   "metadata": {},
   "outputs": [
    {
     "data": {
      "text/plain": [
       "diagnosis                  0\n",
       "radius_mean                0\n",
       "texture_mean               0\n",
       "perimeter_mean             0\n",
       "area_mean                  0\n",
       "smoothness_mean            0\n",
       "compactness_mean           0\n",
       "concavity_mean             0\n",
       "concave points_mean        0\n",
       "symmetry_mean              0\n",
       "fractal_dimension_mean     0\n",
       "radius_se                  0\n",
       "texture_se                 0\n",
       "perimeter_se               0\n",
       "area_se                    0\n",
       "smoothness_se              0\n",
       "compactness_se             0\n",
       "concavity_se               0\n",
       "concave points_se          0\n",
       "symmetry_se                0\n",
       "fractal_dimension_se       0\n",
       "radius_worst               0\n",
       "texture_worst              0\n",
       "perimeter_worst            0\n",
       "area_worst                 0\n",
       "smoothness_worst           0\n",
       "compactness_worst          0\n",
       "concavity_worst            0\n",
       "concave points_worst       0\n",
       "symmetry_worst             0\n",
       "fractal_dimension_worst    0\n",
       "dtype: int64"
      ]
     },
     "execution_count": 4,
     "metadata": {},
     "output_type": "execute_result"
    }
   ],
   "source": [
    "df.isnull().sum()"
   ]
  },
  {
   "cell_type": "code",
   "execution_count": 5,
   "id": "a2a8277c",
   "metadata": {},
   "outputs": [],
   "source": [
    "X = df.iloc[:,1:]\n",
    "Y=df.iloc[:,:1]"
   ]
  },
  {
   "cell_type": "code",
   "execution_count": 6,
   "id": "3a182536",
   "metadata": {},
   "outputs": [
    {
     "data": {
      "text/html": [
       "<div>\n",
       "<style scoped>\n",
       "    .dataframe tbody tr th:only-of-type {\n",
       "        vertical-align: middle;\n",
       "    }\n",
       "\n",
       "    .dataframe tbody tr th {\n",
       "        vertical-align: top;\n",
       "    }\n",
       "\n",
       "    .dataframe thead th {\n",
       "        text-align: right;\n",
       "    }\n",
       "</style>\n",
       "<table border=\"1\" class=\"dataframe\">\n",
       "  <thead>\n",
       "    <tr style=\"text-align: right;\">\n",
       "      <th></th>\n",
       "      <th>radius_mean</th>\n",
       "      <th>texture_mean</th>\n",
       "      <th>perimeter_mean</th>\n",
       "      <th>area_mean</th>\n",
       "      <th>smoothness_mean</th>\n",
       "      <th>compactness_mean</th>\n",
       "      <th>concavity_mean</th>\n",
       "      <th>concave points_mean</th>\n",
       "      <th>symmetry_mean</th>\n",
       "      <th>fractal_dimension_mean</th>\n",
       "      <th>...</th>\n",
       "      <th>radius_worst</th>\n",
       "      <th>texture_worst</th>\n",
       "      <th>perimeter_worst</th>\n",
       "      <th>area_worst</th>\n",
       "      <th>smoothness_worst</th>\n",
       "      <th>compactness_worst</th>\n",
       "      <th>concavity_worst</th>\n",
       "      <th>concave points_worst</th>\n",
       "      <th>symmetry_worst</th>\n",
       "      <th>fractal_dimension_worst</th>\n",
       "    </tr>\n",
       "  </thead>\n",
       "  <tbody>\n",
       "    <tr>\n",
       "      <th>0</th>\n",
       "      <td>17.99</td>\n",
       "      <td>10.38</td>\n",
       "      <td>122.80</td>\n",
       "      <td>1001.0</td>\n",
       "      <td>0.11840</td>\n",
       "      <td>0.27760</td>\n",
       "      <td>0.30010</td>\n",
       "      <td>0.14710</td>\n",
       "      <td>0.2419</td>\n",
       "      <td>0.07871</td>\n",
       "      <td>...</td>\n",
       "      <td>25.380</td>\n",
       "      <td>17.33</td>\n",
       "      <td>184.60</td>\n",
       "      <td>2019.0</td>\n",
       "      <td>0.16220</td>\n",
       "      <td>0.66560</td>\n",
       "      <td>0.7119</td>\n",
       "      <td>0.2654</td>\n",
       "      <td>0.4601</td>\n",
       "      <td>0.11890</td>\n",
       "    </tr>\n",
       "    <tr>\n",
       "      <th>1</th>\n",
       "      <td>20.57</td>\n",
       "      <td>17.77</td>\n",
       "      <td>132.90</td>\n",
       "      <td>1326.0</td>\n",
       "      <td>0.08474</td>\n",
       "      <td>0.07864</td>\n",
       "      <td>0.08690</td>\n",
       "      <td>0.07017</td>\n",
       "      <td>0.1812</td>\n",
       "      <td>0.05667</td>\n",
       "      <td>...</td>\n",
       "      <td>24.990</td>\n",
       "      <td>23.41</td>\n",
       "      <td>158.80</td>\n",
       "      <td>1956.0</td>\n",
       "      <td>0.12380</td>\n",
       "      <td>0.18660</td>\n",
       "      <td>0.2416</td>\n",
       "      <td>0.1860</td>\n",
       "      <td>0.2750</td>\n",
       "      <td>0.08902</td>\n",
       "    </tr>\n",
       "    <tr>\n",
       "      <th>2</th>\n",
       "      <td>19.69</td>\n",
       "      <td>21.25</td>\n",
       "      <td>130.00</td>\n",
       "      <td>1203.0</td>\n",
       "      <td>0.10960</td>\n",
       "      <td>0.15990</td>\n",
       "      <td>0.19740</td>\n",
       "      <td>0.12790</td>\n",
       "      <td>0.2069</td>\n",
       "      <td>0.05999</td>\n",
       "      <td>...</td>\n",
       "      <td>23.570</td>\n",
       "      <td>25.53</td>\n",
       "      <td>152.50</td>\n",
       "      <td>1709.0</td>\n",
       "      <td>0.14440</td>\n",
       "      <td>0.42450</td>\n",
       "      <td>0.4504</td>\n",
       "      <td>0.2430</td>\n",
       "      <td>0.3613</td>\n",
       "      <td>0.08758</td>\n",
       "    </tr>\n",
       "    <tr>\n",
       "      <th>3</th>\n",
       "      <td>11.42</td>\n",
       "      <td>20.38</td>\n",
       "      <td>77.58</td>\n",
       "      <td>386.1</td>\n",
       "      <td>0.14250</td>\n",
       "      <td>0.28390</td>\n",
       "      <td>0.24140</td>\n",
       "      <td>0.10520</td>\n",
       "      <td>0.2597</td>\n",
       "      <td>0.09744</td>\n",
       "      <td>...</td>\n",
       "      <td>14.910</td>\n",
       "      <td>26.50</td>\n",
       "      <td>98.87</td>\n",
       "      <td>567.7</td>\n",
       "      <td>0.20980</td>\n",
       "      <td>0.86630</td>\n",
       "      <td>0.6869</td>\n",
       "      <td>0.2575</td>\n",
       "      <td>0.6638</td>\n",
       "      <td>0.17300</td>\n",
       "    </tr>\n",
       "    <tr>\n",
       "      <th>4</th>\n",
       "      <td>20.29</td>\n",
       "      <td>14.34</td>\n",
       "      <td>135.10</td>\n",
       "      <td>1297.0</td>\n",
       "      <td>0.10030</td>\n",
       "      <td>0.13280</td>\n",
       "      <td>0.19800</td>\n",
       "      <td>0.10430</td>\n",
       "      <td>0.1809</td>\n",
       "      <td>0.05883</td>\n",
       "      <td>...</td>\n",
       "      <td>22.540</td>\n",
       "      <td>16.67</td>\n",
       "      <td>152.20</td>\n",
       "      <td>1575.0</td>\n",
       "      <td>0.13740</td>\n",
       "      <td>0.20500</td>\n",
       "      <td>0.4000</td>\n",
       "      <td>0.1625</td>\n",
       "      <td>0.2364</td>\n",
       "      <td>0.07678</td>\n",
       "    </tr>\n",
       "    <tr>\n",
       "      <th>...</th>\n",
       "      <td>...</td>\n",
       "      <td>...</td>\n",
       "      <td>...</td>\n",
       "      <td>...</td>\n",
       "      <td>...</td>\n",
       "      <td>...</td>\n",
       "      <td>...</td>\n",
       "      <td>...</td>\n",
       "      <td>...</td>\n",
       "      <td>...</td>\n",
       "      <td>...</td>\n",
       "      <td>...</td>\n",
       "      <td>...</td>\n",
       "      <td>...</td>\n",
       "      <td>...</td>\n",
       "      <td>...</td>\n",
       "      <td>...</td>\n",
       "      <td>...</td>\n",
       "      <td>...</td>\n",
       "      <td>...</td>\n",
       "      <td>...</td>\n",
       "    </tr>\n",
       "    <tr>\n",
       "      <th>564</th>\n",
       "      <td>21.56</td>\n",
       "      <td>22.39</td>\n",
       "      <td>142.00</td>\n",
       "      <td>1479.0</td>\n",
       "      <td>0.11100</td>\n",
       "      <td>0.11590</td>\n",
       "      <td>0.24390</td>\n",
       "      <td>0.13890</td>\n",
       "      <td>0.1726</td>\n",
       "      <td>0.05623</td>\n",
       "      <td>...</td>\n",
       "      <td>25.450</td>\n",
       "      <td>26.40</td>\n",
       "      <td>166.10</td>\n",
       "      <td>2027.0</td>\n",
       "      <td>0.14100</td>\n",
       "      <td>0.21130</td>\n",
       "      <td>0.4107</td>\n",
       "      <td>0.2216</td>\n",
       "      <td>0.2060</td>\n",
       "      <td>0.07115</td>\n",
       "    </tr>\n",
       "    <tr>\n",
       "      <th>565</th>\n",
       "      <td>20.13</td>\n",
       "      <td>28.25</td>\n",
       "      <td>131.20</td>\n",
       "      <td>1261.0</td>\n",
       "      <td>0.09780</td>\n",
       "      <td>0.10340</td>\n",
       "      <td>0.14400</td>\n",
       "      <td>0.09791</td>\n",
       "      <td>0.1752</td>\n",
       "      <td>0.05533</td>\n",
       "      <td>...</td>\n",
       "      <td>23.690</td>\n",
       "      <td>38.25</td>\n",
       "      <td>155.00</td>\n",
       "      <td>1731.0</td>\n",
       "      <td>0.11660</td>\n",
       "      <td>0.19220</td>\n",
       "      <td>0.3215</td>\n",
       "      <td>0.1628</td>\n",
       "      <td>0.2572</td>\n",
       "      <td>0.06637</td>\n",
       "    </tr>\n",
       "    <tr>\n",
       "      <th>566</th>\n",
       "      <td>16.60</td>\n",
       "      <td>28.08</td>\n",
       "      <td>108.30</td>\n",
       "      <td>858.1</td>\n",
       "      <td>0.08455</td>\n",
       "      <td>0.10230</td>\n",
       "      <td>0.09251</td>\n",
       "      <td>0.05302</td>\n",
       "      <td>0.1590</td>\n",
       "      <td>0.05648</td>\n",
       "      <td>...</td>\n",
       "      <td>18.980</td>\n",
       "      <td>34.12</td>\n",
       "      <td>126.70</td>\n",
       "      <td>1124.0</td>\n",
       "      <td>0.11390</td>\n",
       "      <td>0.30940</td>\n",
       "      <td>0.3403</td>\n",
       "      <td>0.1418</td>\n",
       "      <td>0.2218</td>\n",
       "      <td>0.07820</td>\n",
       "    </tr>\n",
       "    <tr>\n",
       "      <th>567</th>\n",
       "      <td>20.60</td>\n",
       "      <td>29.33</td>\n",
       "      <td>140.10</td>\n",
       "      <td>1265.0</td>\n",
       "      <td>0.11780</td>\n",
       "      <td>0.27700</td>\n",
       "      <td>0.35140</td>\n",
       "      <td>0.15200</td>\n",
       "      <td>0.2397</td>\n",
       "      <td>0.07016</td>\n",
       "      <td>...</td>\n",
       "      <td>25.740</td>\n",
       "      <td>39.42</td>\n",
       "      <td>184.60</td>\n",
       "      <td>1821.0</td>\n",
       "      <td>0.16500</td>\n",
       "      <td>0.86810</td>\n",
       "      <td>0.9387</td>\n",
       "      <td>0.2650</td>\n",
       "      <td>0.4087</td>\n",
       "      <td>0.12400</td>\n",
       "    </tr>\n",
       "    <tr>\n",
       "      <th>568</th>\n",
       "      <td>7.76</td>\n",
       "      <td>24.54</td>\n",
       "      <td>47.92</td>\n",
       "      <td>181.0</td>\n",
       "      <td>0.05263</td>\n",
       "      <td>0.04362</td>\n",
       "      <td>0.00000</td>\n",
       "      <td>0.00000</td>\n",
       "      <td>0.1587</td>\n",
       "      <td>0.05884</td>\n",
       "      <td>...</td>\n",
       "      <td>9.456</td>\n",
       "      <td>30.37</td>\n",
       "      <td>59.16</td>\n",
       "      <td>268.6</td>\n",
       "      <td>0.08996</td>\n",
       "      <td>0.06444</td>\n",
       "      <td>0.0000</td>\n",
       "      <td>0.0000</td>\n",
       "      <td>0.2871</td>\n",
       "      <td>0.07039</td>\n",
       "    </tr>\n",
       "  </tbody>\n",
       "</table>\n",
       "<p>569 rows × 30 columns</p>\n",
       "</div>"
      ],
      "text/plain": [
       "     radius_mean  texture_mean  perimeter_mean  area_mean  smoothness_mean  \\\n",
       "0          17.99         10.38          122.80     1001.0          0.11840   \n",
       "1          20.57         17.77          132.90     1326.0          0.08474   \n",
       "2          19.69         21.25          130.00     1203.0          0.10960   \n",
       "3          11.42         20.38           77.58      386.1          0.14250   \n",
       "4          20.29         14.34          135.10     1297.0          0.10030   \n",
       "..           ...           ...             ...        ...              ...   \n",
       "564        21.56         22.39          142.00     1479.0          0.11100   \n",
       "565        20.13         28.25          131.20     1261.0          0.09780   \n",
       "566        16.60         28.08          108.30      858.1          0.08455   \n",
       "567        20.60         29.33          140.10     1265.0          0.11780   \n",
       "568         7.76         24.54           47.92      181.0          0.05263   \n",
       "\n",
       "     compactness_mean  concavity_mean  concave points_mean  symmetry_mean  \\\n",
       "0             0.27760         0.30010              0.14710         0.2419   \n",
       "1             0.07864         0.08690              0.07017         0.1812   \n",
       "2             0.15990         0.19740              0.12790         0.2069   \n",
       "3             0.28390         0.24140              0.10520         0.2597   \n",
       "4             0.13280         0.19800              0.10430         0.1809   \n",
       "..                ...             ...                  ...            ...   \n",
       "564           0.11590         0.24390              0.13890         0.1726   \n",
       "565           0.10340         0.14400              0.09791         0.1752   \n",
       "566           0.10230         0.09251              0.05302         0.1590   \n",
       "567           0.27700         0.35140              0.15200         0.2397   \n",
       "568           0.04362         0.00000              0.00000         0.1587   \n",
       "\n",
       "     fractal_dimension_mean  ...  radius_worst  texture_worst  \\\n",
       "0                   0.07871  ...        25.380          17.33   \n",
       "1                   0.05667  ...        24.990          23.41   \n",
       "2                   0.05999  ...        23.570          25.53   \n",
       "3                   0.09744  ...        14.910          26.50   \n",
       "4                   0.05883  ...        22.540          16.67   \n",
       "..                      ...  ...           ...            ...   \n",
       "564                 0.05623  ...        25.450          26.40   \n",
       "565                 0.05533  ...        23.690          38.25   \n",
       "566                 0.05648  ...        18.980          34.12   \n",
       "567                 0.07016  ...        25.740          39.42   \n",
       "568                 0.05884  ...         9.456          30.37   \n",
       "\n",
       "     perimeter_worst  area_worst  smoothness_worst  compactness_worst  \\\n",
       "0             184.60      2019.0           0.16220            0.66560   \n",
       "1             158.80      1956.0           0.12380            0.18660   \n",
       "2             152.50      1709.0           0.14440            0.42450   \n",
       "3              98.87       567.7           0.20980            0.86630   \n",
       "4             152.20      1575.0           0.13740            0.20500   \n",
       "..               ...         ...               ...                ...   \n",
       "564           166.10      2027.0           0.14100            0.21130   \n",
       "565           155.00      1731.0           0.11660            0.19220   \n",
       "566           126.70      1124.0           0.11390            0.30940   \n",
       "567           184.60      1821.0           0.16500            0.86810   \n",
       "568            59.16       268.6           0.08996            0.06444   \n",
       "\n",
       "     concavity_worst  concave points_worst  symmetry_worst  \\\n",
       "0             0.7119                0.2654          0.4601   \n",
       "1             0.2416                0.1860          0.2750   \n",
       "2             0.4504                0.2430          0.3613   \n",
       "3             0.6869                0.2575          0.6638   \n",
       "4             0.4000                0.1625          0.2364   \n",
       "..               ...                   ...             ...   \n",
       "564           0.4107                0.2216          0.2060   \n",
       "565           0.3215                0.1628          0.2572   \n",
       "566           0.3403                0.1418          0.2218   \n",
       "567           0.9387                0.2650          0.4087   \n",
       "568           0.0000                0.0000          0.2871   \n",
       "\n",
       "     fractal_dimension_worst  \n",
       "0                    0.11890  \n",
       "1                    0.08902  \n",
       "2                    0.08758  \n",
       "3                    0.17300  \n",
       "4                    0.07678  \n",
       "..                       ...  \n",
       "564                  0.07115  \n",
       "565                  0.06637  \n",
       "566                  0.07820  \n",
       "567                  0.12400  \n",
       "568                  0.07039  \n",
       "\n",
       "[569 rows x 30 columns]"
      ]
     },
     "execution_count": 6,
     "metadata": {},
     "output_type": "execute_result"
    }
   ],
   "source": [
    "X"
   ]
  },
  {
   "cell_type": "code",
   "execution_count": 7,
   "id": "c7b531b2",
   "metadata": {},
   "outputs": [
    {
     "data": {
      "text/html": [
       "<div>\n",
       "<style scoped>\n",
       "    .dataframe tbody tr th:only-of-type {\n",
       "        vertical-align: middle;\n",
       "    }\n",
       "\n",
       "    .dataframe tbody tr th {\n",
       "        vertical-align: top;\n",
       "    }\n",
       "\n",
       "    .dataframe thead th {\n",
       "        text-align: right;\n",
       "    }\n",
       "</style>\n",
       "<table border=\"1\" class=\"dataframe\">\n",
       "  <thead>\n",
       "    <tr style=\"text-align: right;\">\n",
       "      <th></th>\n",
       "      <th>diagnosis</th>\n",
       "    </tr>\n",
       "  </thead>\n",
       "  <tbody>\n",
       "    <tr>\n",
       "      <th>0</th>\n",
       "      <td>1</td>\n",
       "    </tr>\n",
       "    <tr>\n",
       "      <th>1</th>\n",
       "      <td>1</td>\n",
       "    </tr>\n",
       "    <tr>\n",
       "      <th>2</th>\n",
       "      <td>1</td>\n",
       "    </tr>\n",
       "    <tr>\n",
       "      <th>3</th>\n",
       "      <td>1</td>\n",
       "    </tr>\n",
       "    <tr>\n",
       "      <th>4</th>\n",
       "      <td>1</td>\n",
       "    </tr>\n",
       "    <tr>\n",
       "      <th>...</th>\n",
       "      <td>...</td>\n",
       "    </tr>\n",
       "    <tr>\n",
       "      <th>564</th>\n",
       "      <td>1</td>\n",
       "    </tr>\n",
       "    <tr>\n",
       "      <th>565</th>\n",
       "      <td>1</td>\n",
       "    </tr>\n",
       "    <tr>\n",
       "      <th>566</th>\n",
       "      <td>1</td>\n",
       "    </tr>\n",
       "    <tr>\n",
       "      <th>567</th>\n",
       "      <td>1</td>\n",
       "    </tr>\n",
       "    <tr>\n",
       "      <th>568</th>\n",
       "      <td>0</td>\n",
       "    </tr>\n",
       "  </tbody>\n",
       "</table>\n",
       "<p>569 rows × 1 columns</p>\n",
       "</div>"
      ],
      "text/plain": [
       "     diagnosis\n",
       "0            1\n",
       "1            1\n",
       "2            1\n",
       "3            1\n",
       "4            1\n",
       "..         ...\n",
       "564          1\n",
       "565          1\n",
       "566          1\n",
       "567          1\n",
       "568          0\n",
       "\n",
       "[569 rows x 1 columns]"
      ]
     },
     "execution_count": 7,
     "metadata": {},
     "output_type": "execute_result"
    }
   ],
   "source": [
    "Y"
   ]
  },
  {
   "cell_type": "markdown",
   "id": "ecfadc23",
   "metadata": {},
   "source": [
    "# Visualisation"
   ]
  },
  {
   "cell_type": "code",
   "execution_count": 8,
   "id": "6d5759a3",
   "metadata": {},
   "outputs": [
    {
     "data": {
      "image/png": "[encoded data removed]",
      "text/plain": [
       "<Figure size 432x288 with 1 Axes>"
      ]
     },
     "metadata": {
      "needs_background": "light"
     },
     "output_type": "display_data"
    }
   ],
   "source": [
    "sns.countplot(x=df['diagnosis']);"
   ]
  },
  {
   "cell_type": "code",
   "execution_count": 9,
   "id": "d06be087",
   "metadata": {},
   "outputs": [
    {
     "data": {
      "image/png": "[encoded data removed]",
      "text/plain": [
       "<Figure size 720x576 with 2 Axes>"
      ]
     },
     "metadata": {
      "needs_background": "light"
     },
     "output_type": "display_data"
    }
   ],
   "source": [
    "plt.figure(figsize = (10, 8))\n",
    "corr = df.corr(method='spearman')\n",
    "cormat = sns.heatmap(corr,cmap='YlGnBu', linewidths=1)\n",
    "cormat.set_title('Correlation Matrix')\n",
    "plt.show()"
   ]
  },
  {
   "cell_type": "code",
   "execution_count": 10,
   "id": "c5905c25",
   "metadata": {},
   "outputs": [
    {
     "data": {
      "image/png": "[encoded data removed]",
      "text/plain": [
       "<Figure size 720x864 with 2 Axes>"
      ]
     },
     "metadata": {
      "needs_background": "light"
     },
     "output_type": "display_data"
    }
   ],
   "source": [
    "fig,ax=plt.subplots(figsize=(10,12))\n",
    "sns.heatmap(df);"
   ]
  },
  {
   "cell_type": "code",
   "execution_count": 11,
   "id": "ea1cb05e",
   "metadata": {},
   "outputs": [
    {
     "data": {
      "text/plain": [
       "<seaborn.axisgrid.FacetGrid at 0x1a8fb9bc4c0>"
      ]
     },
     "execution_count": 11,
     "metadata": {},
     "output_type": "execute_result"
    },
    {
     "data": {
      "image/png": "[encoded data removed]",
      "text/plain": [
       "<Figure size 415.5x360 with 1 Axes>"
      ]
     },
     "metadata": {
      "needs_background": "light"
     },
     "output_type": "display_data"
    }
   ],
   "source": [
    "sns.lmplot(x = 'radius_mean', y = 'texture_mean', hue = 'diagnosis', data = df)"
   ]
  },
  {
   "cell_type": "code",
   "execution_count": 12,
   "id": "3670f506",
   "metadata": {},
   "outputs": [
    {
     "data": {
      "text/plain": [
       "<seaborn.axisgrid.FacetGrid at 0x1a8fb895790>"
      ]
     },
     "execution_count": 12,
     "metadata": {},
     "output_type": "execute_result"
    },
    {
     "data": {
      "image/png": "[encoded data removed]",
      "text/plain": [
       "<Figure size 415.5x360 with 1 Axes>"
      ]
     },
     "metadata": {
      "needs_background": "light"
     },
     "output_type": "display_data"
    }
   ],
   "source": [
    "sns.lmplot(x ='smoothness_mean', y = 'compactness_mean', data = df, hue = 'diagnosis')"
   ]
  },
  {
   "cell_type": "markdown",
   "id": "c355b5c6",
   "metadata": {},
   "source": [
    "# Normalisation Techniques"
   ]
  },
  {
   "cell_type": "markdown",
   "id": "ead6c0ba",
   "metadata": {},
   "source": [
    "Normalization is a scaling technique which is used to bring all the features of a dataset to an equal weight. Normalization can be termed as a pre-processingstage. It is usually done to make sure that all the features, especially the ones with the least values, do not get ignored during the computation process. The dataset considered for this paper contained attributes of varying scales. Therefore, we have used the following normalization techniques in order to scale the features to a particular range, so that each feature contributes effectively in deciding the algorithm’s output."
   ]
  },
  {
   "cell_type": "markdown",
   "id": "dd36cb74",
   "metadata": {},
   "source": [
    "The following normalization techniques are used:-"
   ]
  },
  {
   "cell_type": "markdown",
   "id": "fecbaf0d",
   "metadata": {},
   "source": [
    "## 1. Min-Max"
   ]
  },
  {
   "cell_type": "markdown",
   "id": "72501840",
   "metadata": {},
   "source": [
    "<center>\n",
    "<img src='https://www.oreilly.com/library/view/regression-analysis-with/9781788627306/assets/ffb3ac78-fd6f-4340-aa92-cde8ae0322d6.png' width=350>\n",
    "</center>"
   ]
  },
  {
   "cell_type": "code",
   "execution_count": 13,
   "id": "eaa8a70d",
   "metadata": {},
   "outputs": [
    {
     "data": {
      "text/html": [
       "<div>\n",
       "<style scoped>\n",
       "    .dataframe tbody tr th:only-of-type {\n",
       "        vertical-align: middle;\n",
       "    }\n",
       "\n",
       "    .dataframe tbody tr th {\n",
       "        vertical-align: top;\n",
       "    }\n",
       "\n",
       "    .dataframe thead th {\n",
       "        text-align: right;\n",
       "    }\n",
       "</style>\n",
       "<table border=\"1\" class=\"dataframe\">\n",
       "  <thead>\n",
       "    <tr style=\"text-align: right;\">\n",
       "      <th></th>\n",
       "      <th>radius_mean</th>\n",
       "      <th>texture_mean</th>\n",
       "      <th>perimeter_mean</th>\n",
       "      <th>area_mean</th>\n",
       "      <th>smoothness_mean</th>\n",
       "      <th>compactness_mean</th>\n",
       "      <th>concavity_mean</th>\n",
       "      <th>concave points_mean</th>\n",
       "      <th>symmetry_mean</th>\n",
       "      <th>fractal_dimension_mean</th>\n",
       "      <th>...</th>\n",
       "      <th>radius_worst</th>\n",
       "      <th>texture_worst</th>\n",
       "      <th>perimeter_worst</th>\n",
       "      <th>area_worst</th>\n",
       "      <th>smoothness_worst</th>\n",
       "      <th>compactness_worst</th>\n",
       "      <th>concavity_worst</th>\n",
       "      <th>concave points_worst</th>\n",
       "      <th>symmetry_worst</th>\n",
       "      <th>fractal_dimension_worst</th>\n",
       "    </tr>\n",
       "  </thead>\n",
       "  <tbody>\n",
       "    <tr>\n",
       "      <th>0</th>\n",
       "      <td>0.521037</td>\n",
       "      <td>0.022658</td>\n",
       "      <td>0.545989</td>\n",
       "      <td>0.363733</td>\n",
       "      <td>0.593753</td>\n",
       "      <td>0.792037</td>\n",
       "      <td>0.703140</td>\n",
       "      <td>0.731113</td>\n",
       "      <td>0.686364</td>\n",
       "      <td>0.605518</td>\n",
       "      <td>...</td>\n",
       "      <td>0.620776</td>\n",
       "      <td>0.141525</td>\n",
       "      <td>0.668310</td>\n",
       "      <td>0.450698</td>\n",
       "      <td>0.601136</td>\n",
       "      <td>0.619292</td>\n",
       "      <td>0.568610</td>\n",
       "      <td>0.912027</td>\n",
       "      <td>0.598462</td>\n",
       "      <td>0.418864</td>\n",
       "    </tr>\n",
       "    <tr>\n",
       "      <th>1</th>\n",
       "      <td>0.643144</td>\n",
       "      <td>0.272574</td>\n",
       "      <td>0.615783</td>\n",
       "      <td>0.501591</td>\n",
       "      <td>0.289880</td>\n",
       "      <td>0.181768</td>\n",
       "      <td>0.203608</td>\n",
       "      <td>0.348757</td>\n",
       "      <td>0.379798</td>\n",
       "      <td>0.141323</td>\n",
       "      <td>...</td>\n",
       "      <td>0.606901</td>\n",
       "      <td>0.303571</td>\n",
       "      <td>0.539818</td>\n",
       "      <td>0.435214</td>\n",
       "      <td>0.347553</td>\n",
       "      <td>0.154563</td>\n",
       "      <td>0.192971</td>\n",
       "      <td>0.639175</td>\n",
       "      <td>0.233590</td>\n",
       "      <td>0.222878</td>\n",
       "    </tr>\n",
       "    <tr>\n",
       "      <th>2</th>\n",
       "      <td>0.601496</td>\n",
       "      <td>0.390260</td>\n",
       "      <td>0.595743</td>\n",
       "      <td>0.449417</td>\n",
       "      <td>0.514309</td>\n",
       "      <td>0.431017</td>\n",
       "      <td>0.462512</td>\n",
       "      <td>0.635686</td>\n",
       "      <td>0.509596</td>\n",
       "      <td>0.211247</td>\n",
       "      <td>...</td>\n",
       "      <td>0.556386</td>\n",
       "      <td>0.360075</td>\n",
       "      <td>0.508442</td>\n",
       "      <td>0.374508</td>\n",
       "      <td>0.483590</td>\n",
       "      <td>0.385375</td>\n",
       "      <td>0.359744</td>\n",
       "      <td>0.835052</td>\n",
       "      <td>0.403706</td>\n",
       "      <td>0.213433</td>\n",
       "    </tr>\n",
       "    <tr>\n",
       "      <th>3</th>\n",
       "      <td>0.210090</td>\n",
       "      <td>0.360839</td>\n",
       "      <td>0.233501</td>\n",
       "      <td>0.102906</td>\n",
       "      <td>0.811321</td>\n",
       "      <td>0.811361</td>\n",
       "      <td>0.565604</td>\n",
       "      <td>0.522863</td>\n",
       "      <td>0.776263</td>\n",
       "      <td>1.000000</td>\n",
       "      <td>...</td>\n",
       "      <td>0.248310</td>\n",
       "      <td>0.385928</td>\n",
       "      <td>0.241347</td>\n",
       "      <td>0.094008</td>\n",
       "      <td>0.915472</td>\n",
       "      <td>0.814012</td>\n",
       "      <td>0.548642</td>\n",
       "      <td>0.884880</td>\n",
       "      <td>1.000000</td>\n",
       "      <td>0.773711</td>\n",
       "    </tr>\n",
       "    <tr>\n",
       "      <th>4</th>\n",
       "      <td>0.629893</td>\n",
       "      <td>0.156578</td>\n",
       "      <td>0.630986</td>\n",
       "      <td>0.489290</td>\n",
       "      <td>0.430351</td>\n",
       "      <td>0.347893</td>\n",
       "      <td>0.463918</td>\n",
       "      <td>0.518390</td>\n",
       "      <td>0.378283</td>\n",
       "      <td>0.186816</td>\n",
       "      <td>...</td>\n",
       "      <td>0.519744</td>\n",
       "      <td>0.123934</td>\n",
       "      <td>0.506948</td>\n",
       "      <td>0.341575</td>\n",
       "      <td>0.437364</td>\n",
       "      <td>0.172415</td>\n",
       "      <td>0.319489</td>\n",
       "      <td>0.558419</td>\n",
       "      <td>0.157500</td>\n",
       "      <td>0.142595</td>\n",
       "    </tr>\n",
       "    <tr>\n",
       "      <th>...</th>\n",
       "      <td>...</td>\n",
       "      <td>...</td>\n",
       "      <td>...</td>\n",
       "      <td>...</td>\n",
       "      <td>...</td>\n",
       "      <td>...</td>\n",
       "      <td>...</td>\n",
       "      <td>...</td>\n",
       "      <td>...</td>\n",
       "      <td>...</td>\n",
       "      <td>...</td>\n",
       "      <td>...</td>\n",
       "      <td>...</td>\n",
       "      <td>...</td>\n",
       "      <td>...</td>\n",
       "      <td>...</td>\n",
       "      <td>...</td>\n",
       "      <td>...</td>\n",
       "      <td>...</td>\n",
       "      <td>...</td>\n",
       "      <td>...</td>\n",
       "    </tr>\n",
       "    <tr>\n",
       "      <th>564</th>\n",
       "      <td>0.690000</td>\n",
       "      <td>0.428813</td>\n",
       "      <td>0.678668</td>\n",
       "      <td>0.566490</td>\n",
       "      <td>0.526948</td>\n",
       "      <td>0.296055</td>\n",
       "      <td>0.571462</td>\n",
       "      <td>0.690358</td>\n",
       "      <td>0.336364</td>\n",
       "      <td>0.132056</td>\n",
       "      <td>...</td>\n",
       "      <td>0.623266</td>\n",
       "      <td>0.383262</td>\n",
       "      <td>0.576174</td>\n",
       "      <td>0.452664</td>\n",
       "      <td>0.461137</td>\n",
       "      <td>0.178527</td>\n",
       "      <td>0.328035</td>\n",
       "      <td>0.761512</td>\n",
       "      <td>0.097575</td>\n",
       "      <td>0.105667</td>\n",
       "    </tr>\n",
       "    <tr>\n",
       "      <th>565</th>\n",
       "      <td>0.622320</td>\n",
       "      <td>0.626987</td>\n",
       "      <td>0.604036</td>\n",
       "      <td>0.474019</td>\n",
       "      <td>0.407782</td>\n",
       "      <td>0.257714</td>\n",
       "      <td>0.337395</td>\n",
       "      <td>0.486630</td>\n",
       "      <td>0.349495</td>\n",
       "      <td>0.113100</td>\n",
       "      <td>...</td>\n",
       "      <td>0.560655</td>\n",
       "      <td>0.699094</td>\n",
       "      <td>0.520892</td>\n",
       "      <td>0.379915</td>\n",
       "      <td>0.300007</td>\n",
       "      <td>0.159997</td>\n",
       "      <td>0.256789</td>\n",
       "      <td>0.559450</td>\n",
       "      <td>0.198502</td>\n",
       "      <td>0.074315</td>\n",
       "    </tr>\n",
       "    <tr>\n",
       "      <th>566</th>\n",
       "      <td>0.455251</td>\n",
       "      <td>0.621238</td>\n",
       "      <td>0.445788</td>\n",
       "      <td>0.303118</td>\n",
       "      <td>0.288165</td>\n",
       "      <td>0.254340</td>\n",
       "      <td>0.216753</td>\n",
       "      <td>0.263519</td>\n",
       "      <td>0.267677</td>\n",
       "      <td>0.137321</td>\n",
       "      <td>...</td>\n",
       "      <td>0.393099</td>\n",
       "      <td>0.589019</td>\n",
       "      <td>0.379949</td>\n",
       "      <td>0.230731</td>\n",
       "      <td>0.282177</td>\n",
       "      <td>0.273705</td>\n",
       "      <td>0.271805</td>\n",
       "      <td>0.487285</td>\n",
       "      <td>0.128721</td>\n",
       "      <td>0.151909</td>\n",
       "    </tr>\n",
       "    <tr>\n",
       "      <th>567</th>\n",
       "      <td>0.644564</td>\n",
       "      <td>0.663510</td>\n",
       "      <td>0.665538</td>\n",
       "      <td>0.475716</td>\n",
       "      <td>0.588336</td>\n",
       "      <td>0.790197</td>\n",
       "      <td>0.823336</td>\n",
       "      <td>0.755467</td>\n",
       "      <td>0.675253</td>\n",
       "      <td>0.425442</td>\n",
       "      <td>...</td>\n",
       "      <td>0.633582</td>\n",
       "      <td>0.730277</td>\n",
       "      <td>0.668310</td>\n",
       "      <td>0.402035</td>\n",
       "      <td>0.619626</td>\n",
       "      <td>0.815758</td>\n",
       "      <td>0.749760</td>\n",
       "      <td>0.910653</td>\n",
       "      <td>0.497142</td>\n",
       "      <td>0.452315</td>\n",
       "    </tr>\n",
       "    <tr>\n",
       "      <th>568</th>\n",
       "      <td>0.036869</td>\n",
       "      <td>0.501522</td>\n",
       "      <td>0.028540</td>\n",
       "      <td>0.015907</td>\n",
       "      <td>0.000000</td>\n",
       "      <td>0.074351</td>\n",
       "      <td>0.000000</td>\n",
       "      <td>0.000000</td>\n",
       "      <td>0.266162</td>\n",
       "      <td>0.187026</td>\n",
       "      <td>...</td>\n",
       "      <td>0.054287</td>\n",
       "      <td>0.489072</td>\n",
       "      <td>0.043578</td>\n",
       "      <td>0.020497</td>\n",
       "      <td>0.124084</td>\n",
       "      <td>0.036043</td>\n",
       "      <td>0.000000</td>\n",
       "      <td>0.000000</td>\n",
       "      <td>0.257441</td>\n",
       "      <td>0.100682</td>\n",
       "    </tr>\n",
       "  </tbody>\n",
       "</table>\n",
       "<p>569 rows × 30 columns</p>\n",
       "</div>"
      ],
      "text/plain": [
       "     radius_mean  texture_mean  perimeter_mean  area_mean  smoothness_mean  \\\n",
       "0       0.521037      0.022658        0.545989   0.363733         0.593753   \n",
       "1       0.643144      0.272574        0.615783   0.501591         0.289880   \n",
       "2       0.601496      0.390260        0.595743   0.449417         0.514309   \n",
       "3       0.210090      0.360839        0.233501   0.102906         0.811321   \n",
       "4       0.629893      0.156578        0.630986   0.489290         0.430351   \n",
       "..           ...           ...             ...        ...              ...   \n",
       "564     0.690000      0.428813        0.678668   0.566490         0.526948   \n",
       "565     0.622320      0.626987        0.604036   0.474019         0.407782   \n",
       "566     0.455251      0.621238        0.445788   0.303118         0.288165   \n",
       "567     0.644564      0.663510        0.665538   0.475716         0.588336   \n",
       "568     0.036869      0.501522        0.028540   0.015907         0.000000   \n",
       "\n",
       "     compactness_mean  concavity_mean  concave points_mean  symmetry_mean  \\\n",
       "0            0.792037        0.703140             0.731113       0.686364   \n",
       "1            0.181768        0.203608             0.348757       0.379798   \n",
       "2            0.431017        0.462512             0.635686       0.509596   \n",
       "3            0.811361        0.565604             0.522863       0.776263   \n",
       "4            0.347893        0.463918             0.518390       0.378283   \n",
       "..                ...             ...                  ...            ...   \n",
       "564          0.296055        0.571462             0.690358       0.336364   \n",
       "565          0.257714        0.337395             0.486630       0.349495   \n",
       "566          0.254340        0.216753             0.263519       0.267677   \n",
       "567          0.790197        0.823336             0.755467       0.675253   \n",
       "568          0.074351        0.000000             0.000000       0.266162   \n",
       "\n",
       "     fractal_dimension_mean  ...  radius_worst  texture_worst  \\\n",
       "0                  0.605518  ...      0.620776       0.141525   \n",
       "1                  0.141323  ...      0.606901       0.303571   \n",
       "2                  0.211247  ...      0.556386       0.360075   \n",
       "3                  1.000000  ...      0.248310       0.385928   \n",
       "4                  0.186816  ...      0.519744       0.123934   \n",
       "..                      ...  ...           ...            ...   \n",
       "564                0.132056  ...      0.623266       0.383262   \n",
       "565                0.113100  ...      0.560655       0.699094   \n",
       "566                0.137321  ...      0.393099       0.589019   \n",
       "567                0.425442  ...      0.633582       0.730277   \n",
       "568                0.187026  ...      0.054287       0.489072   \n",
       "\n",
       "     perimeter_worst  area_worst  smoothness_worst  compactness_worst  \\\n",
       "0           0.668310    0.450698          0.601136           0.619292   \n",
       "1           0.539818    0.435214          0.347553           0.154563   \n",
       "2           0.508442    0.374508          0.483590           0.385375   \n",
       "3           0.241347    0.094008          0.915472           0.814012   \n",
       "4           0.506948    0.341575          0.437364           0.172415   \n",
       "..               ...         ...               ...                ...   \n",
       "564         0.576174    0.452664          0.461137           0.178527   \n",
       "565         0.520892    0.379915          0.300007           0.159997   \n",
       "566         0.379949    0.230731          0.282177           0.273705   \n",
       "567         0.668310    0.402035          0.619626           0.815758   \n",
       "568         0.043578    0.020497          0.124084           0.036043   \n",
       "\n",
       "     concavity_worst  concave points_worst  symmetry_worst  \\\n",
       "0           0.568610              0.912027        0.598462   \n",
       "1           0.192971              0.639175        0.233590   \n",
       "2           0.359744              0.835052        0.403706   \n",
       "3           0.548642              0.884880        1.000000   \n",
       "4           0.319489              0.558419        0.157500   \n",
       "..               ...                   ...             ...   \n",
       "564         0.328035              0.761512        0.097575   \n",
       "565         0.256789              0.559450        0.198502   \n",
       "566         0.271805              0.487285        0.128721   \n",
       "567         0.749760              0.910653        0.497142   \n",
       "568         0.000000              0.000000        0.257441   \n",
       "\n",
       "     fractal_dimension_worst  \n",
       "0                   0.418864  \n",
       "1                   0.222878  \n",
       "2                   0.213433  \n",
       "3                   0.773711  \n",
       "4                   0.142595  \n",
       "..                       ...  \n",
       "564                 0.105667  \n",
       "565                 0.074315  \n",
       "566                 0.151909  \n",
       "567                 0.452315  \n",
       "568                 0.100682  \n",
       "\n",
       "[569 rows x 30 columns]"
      ]
     },
     "execution_count": 13,
     "metadata": {},
     "output_type": "execute_result"
    }
   ],
   "source": [
    "# copy the data\n",
    "X_min_max = X.copy()\n",
    "\n",
    "# apply normalization techniques\n",
    "for column in X_min_max.columns:\n",
    "    X_min_max[column] = (X_min_max[column] - X_min_max[column].min()) / (X_min_max[column].max() - X_min_max[column].min()) \n",
    "\n",
    "# view normalized data\n",
    "X_min_max\n"
   ]
  },
  {
   "cell_type": "markdown",
   "id": "5676f37b",
   "metadata": {},
   "source": [
    "## 2. Z-Score"
   ]
  },
  {
   "cell_type": "markdown",
   "id": "c1cbf8d6",
   "metadata": {},
   "source": [
    "<center>\n",
    "<img src='https://www.oreilly.com/library/view/hands-on-machine-learning/9781788393485/assets/7a9d8cb9-10f7-43b5-b52f-865fbbb0b69e.png' width=350>\n",
    "</center>"
   ]
  },
  {
   "cell_type": "code",
   "execution_count": 14,
   "id": "c76e99ab",
   "metadata": {},
   "outputs": [
    {
     "data": {
      "text/html": [
       "<div>\n",
       "<style scoped>\n",
       "    .dataframe tbody tr th:only-of-type {\n",
       "        vertical-align: middle;\n",
       "    }\n",
       "\n",
       "    .dataframe tbody tr th {\n",
       "        vertical-align: top;\n",
       "    }\n",
       "\n",
       "    .dataframe thead th {\n",
       "        text-align: right;\n",
       "    }\n",
       "</style>\n",
       "<table border=\"1\" class=\"dataframe\">\n",
       "  <thead>\n",
       "    <tr style=\"text-align: right;\">\n",
       "      <th></th>\n",
       "      <th>radius_mean</th>\n",
       "      <th>texture_mean</th>\n",
       "      <th>perimeter_mean</th>\n",
       "      <th>area_mean</th>\n",
       "      <th>smoothness_mean</th>\n",
       "      <th>compactness_mean</th>\n",
       "      <th>concavity_mean</th>\n",
       "      <th>concave points_mean</th>\n",
       "      <th>symmetry_mean</th>\n",
       "      <th>fractal_dimension_mean</th>\n",
       "      <th>...</th>\n",
       "      <th>radius_worst</th>\n",
       "      <th>texture_worst</th>\n",
       "      <th>perimeter_worst</th>\n",
       "      <th>area_worst</th>\n",
       "      <th>smoothness_worst</th>\n",
       "      <th>compactness_worst</th>\n",
       "      <th>concavity_worst</th>\n",
       "      <th>concave points_worst</th>\n",
       "      <th>symmetry_worst</th>\n",
       "      <th>fractal_dimension_worst</th>\n",
       "    </tr>\n",
       "  </thead>\n",
       "  <tbody>\n",
       "    <tr>\n",
       "      <th>0</th>\n",
       "      <td>1.096100</td>\n",
       "      <td>-2.071512</td>\n",
       "      <td>1.268817</td>\n",
       "      <td>0.983510</td>\n",
       "      <td>1.567087</td>\n",
       "      <td>3.280628</td>\n",
       "      <td>2.650542</td>\n",
       "      <td>2.530249</td>\n",
       "      <td>2.215566</td>\n",
       "      <td>2.253764</td>\n",
       "      <td>...</td>\n",
       "      <td>1.885031</td>\n",
       "      <td>-1.358098</td>\n",
       "      <td>2.301575</td>\n",
       "      <td>1.999478</td>\n",
       "      <td>1.306537</td>\n",
       "      <td>2.614365</td>\n",
       "      <td>2.107672</td>\n",
       "      <td>2.294058</td>\n",
       "      <td>2.748204</td>\n",
       "      <td>1.935312</td>\n",
       "    </tr>\n",
       "    <tr>\n",
       "      <th>1</th>\n",
       "      <td>1.828212</td>\n",
       "      <td>-0.353322</td>\n",
       "      <td>1.684473</td>\n",
       "      <td>1.907030</td>\n",
       "      <td>-0.826235</td>\n",
       "      <td>-0.486643</td>\n",
       "      <td>-0.023825</td>\n",
       "      <td>0.547662</td>\n",
       "      <td>0.001391</td>\n",
       "      <td>-0.867889</td>\n",
       "      <td>...</td>\n",
       "      <td>1.804340</td>\n",
       "      <td>-0.368879</td>\n",
       "      <td>1.533776</td>\n",
       "      <td>1.888827</td>\n",
       "      <td>-0.375282</td>\n",
       "      <td>-0.430066</td>\n",
       "      <td>-0.146620</td>\n",
       "      <td>1.086129</td>\n",
       "      <td>-0.243675</td>\n",
       "      <td>0.280943</td>\n",
       "    </tr>\n",
       "    <tr>\n",
       "      <th>2</th>\n",
       "      <td>1.578499</td>\n",
       "      <td>0.455786</td>\n",
       "      <td>1.565126</td>\n",
       "      <td>1.557513</td>\n",
       "      <td>0.941382</td>\n",
       "      <td>1.052000</td>\n",
       "      <td>1.362280</td>\n",
       "      <td>2.035440</td>\n",
       "      <td>0.938859</td>\n",
       "      <td>-0.397658</td>\n",
       "      <td>...</td>\n",
       "      <td>1.510541</td>\n",
       "      <td>-0.023953</td>\n",
       "      <td>1.346291</td>\n",
       "      <td>1.455004</td>\n",
       "      <td>0.526944</td>\n",
       "      <td>1.081980</td>\n",
       "      <td>0.854222</td>\n",
       "      <td>1.953282</td>\n",
       "      <td>1.151242</td>\n",
       "      <td>0.201214</td>\n",
       "    </tr>\n",
       "    <tr>\n",
       "      <th>3</th>\n",
       "      <td>-0.768233</td>\n",
       "      <td>0.253509</td>\n",
       "      <td>-0.592166</td>\n",
       "      <td>-0.763792</td>\n",
       "      <td>3.280667</td>\n",
       "      <td>3.399917</td>\n",
       "      <td>1.914213</td>\n",
       "      <td>1.450431</td>\n",
       "      <td>2.864862</td>\n",
       "      <td>4.906602</td>\n",
       "      <td>...</td>\n",
       "      <td>-0.281217</td>\n",
       "      <td>0.133866</td>\n",
       "      <td>-0.249720</td>\n",
       "      <td>-0.549538</td>\n",
       "      <td>3.391291</td>\n",
       "      <td>3.889975</td>\n",
       "      <td>1.987839</td>\n",
       "      <td>2.173873</td>\n",
       "      <td>6.040726</td>\n",
       "      <td>4.930672</td>\n",
       "    </tr>\n",
       "    <tr>\n",
       "      <th>4</th>\n",
       "      <td>1.748758</td>\n",
       "      <td>-1.150804</td>\n",
       "      <td>1.775011</td>\n",
       "      <td>1.824624</td>\n",
       "      <td>0.280125</td>\n",
       "      <td>0.538866</td>\n",
       "      <td>1.369806</td>\n",
       "      <td>1.427237</td>\n",
       "      <td>-0.009552</td>\n",
       "      <td>-0.561956</td>\n",
       "      <td>...</td>\n",
       "      <td>1.297434</td>\n",
       "      <td>-1.465481</td>\n",
       "      <td>1.337363</td>\n",
       "      <td>1.219651</td>\n",
       "      <td>0.220362</td>\n",
       "      <td>-0.313119</td>\n",
       "      <td>0.612640</td>\n",
       "      <td>0.728618</td>\n",
       "      <td>-0.867590</td>\n",
       "      <td>-0.396751</td>\n",
       "    </tr>\n",
       "    <tr>\n",
       "      <th>...</th>\n",
       "      <td>...</td>\n",
       "      <td>...</td>\n",
       "      <td>...</td>\n",
       "      <td>...</td>\n",
       "      <td>...</td>\n",
       "      <td>...</td>\n",
       "      <td>...</td>\n",
       "      <td>...</td>\n",
       "      <td>...</td>\n",
       "      <td>...</td>\n",
       "      <td>...</td>\n",
       "      <td>...</td>\n",
       "      <td>...</td>\n",
       "      <td>...</td>\n",
       "      <td>...</td>\n",
       "      <td>...</td>\n",
       "      <td>...</td>\n",
       "      <td>...</td>\n",
       "      <td>...</td>\n",
       "      <td>...</td>\n",
       "      <td>...</td>\n",
       "    </tr>\n",
       "    <tr>\n",
       "      <th>564</th>\n",
       "      <td>2.109139</td>\n",
       "      <td>0.720838</td>\n",
       "      <td>2.058974</td>\n",
       "      <td>2.341795</td>\n",
       "      <td>1.040926</td>\n",
       "      <td>0.218868</td>\n",
       "      <td>1.945573</td>\n",
       "      <td>2.318924</td>\n",
       "      <td>-0.312314</td>\n",
       "      <td>-0.930209</td>\n",
       "      <td>...</td>\n",
       "      <td>1.899514</td>\n",
       "      <td>0.117596</td>\n",
       "      <td>1.751022</td>\n",
       "      <td>2.013529</td>\n",
       "      <td>0.378033</td>\n",
       "      <td>-0.273077</td>\n",
       "      <td>0.663928</td>\n",
       "      <td>1.627719</td>\n",
       "      <td>-1.358963</td>\n",
       "      <td>-0.708467</td>\n",
       "    </tr>\n",
       "    <tr>\n",
       "      <th>565</th>\n",
       "      <td>1.703356</td>\n",
       "      <td>2.083301</td>\n",
       "      <td>1.614511</td>\n",
       "      <td>1.722326</td>\n",
       "      <td>0.102368</td>\n",
       "      <td>-0.017817</td>\n",
       "      <td>0.692434</td>\n",
       "      <td>1.262558</td>\n",
       "      <td>-0.217473</td>\n",
       "      <td>-1.057681</td>\n",
       "      <td>...</td>\n",
       "      <td>1.535369</td>\n",
       "      <td>2.045599</td>\n",
       "      <td>1.420690</td>\n",
       "      <td>1.493644</td>\n",
       "      <td>-0.690623</td>\n",
       "      <td>-0.394473</td>\n",
       "      <td>0.236365</td>\n",
       "      <td>0.733182</td>\n",
       "      <td>-0.531387</td>\n",
       "      <td>-0.973122</td>\n",
       "    </tr>\n",
       "    <tr>\n",
       "      <th>566</th>\n",
       "      <td>0.701667</td>\n",
       "      <td>2.043775</td>\n",
       "      <td>0.672084</td>\n",
       "      <td>0.577445</td>\n",
       "      <td>-0.839745</td>\n",
       "      <td>-0.038646</td>\n",
       "      <td>0.046547</td>\n",
       "      <td>0.105684</td>\n",
       "      <td>-0.808406</td>\n",
       "      <td>-0.894800</td>\n",
       "      <td>...</td>\n",
       "      <td>0.560868</td>\n",
       "      <td>1.373645</td>\n",
       "      <td>0.578492</td>\n",
       "      <td>0.427529</td>\n",
       "      <td>-0.808876</td>\n",
       "      <td>0.350427</td>\n",
       "      <td>0.326479</td>\n",
       "      <td>0.413705</td>\n",
       "      <td>-1.103578</td>\n",
       "      <td>-0.318129</td>\n",
       "    </tr>\n",
       "    <tr>\n",
       "      <th>567</th>\n",
       "      <td>1.836725</td>\n",
       "      <td>2.334403</td>\n",
       "      <td>1.980781</td>\n",
       "      <td>1.733693</td>\n",
       "      <td>1.524426</td>\n",
       "      <td>3.269267</td>\n",
       "      <td>3.294046</td>\n",
       "      <td>2.656528</td>\n",
       "      <td>2.135315</td>\n",
       "      <td>1.042778</td>\n",
       "      <td>...</td>\n",
       "      <td>1.959515</td>\n",
       "      <td>2.235958</td>\n",
       "      <td>2.301575</td>\n",
       "      <td>1.651717</td>\n",
       "      <td>1.429169</td>\n",
       "      <td>3.901415</td>\n",
       "      <td>3.194794</td>\n",
       "      <td>2.287972</td>\n",
       "      <td>1.917396</td>\n",
       "      <td>2.217684</td>\n",
       "    </tr>\n",
       "    <tr>\n",
       "      <th>568</th>\n",
       "      <td>-1.806811</td>\n",
       "      <td>1.220718</td>\n",
       "      <td>-1.812793</td>\n",
       "      <td>-1.346604</td>\n",
       "      <td>-3.109349</td>\n",
       "      <td>-1.149741</td>\n",
       "      <td>-1.113893</td>\n",
       "      <td>-1.260710</td>\n",
       "      <td>-0.819349</td>\n",
       "      <td>-0.560539</td>\n",
       "      <td>...</td>\n",
       "      <td>-1.409652</td>\n",
       "      <td>0.763518</td>\n",
       "      <td>-1.431475</td>\n",
       "      <td>-1.074867</td>\n",
       "      <td>-1.857384</td>\n",
       "      <td>-1.206491</td>\n",
       "      <td>-1.304683</td>\n",
       "      <td>-1.743529</td>\n",
       "      <td>-0.048096</td>\n",
       "      <td>-0.750546</td>\n",
       "    </tr>\n",
       "  </tbody>\n",
       "</table>\n",
       "<p>569 rows × 30 columns</p>\n",
       "</div>"
      ],
      "text/plain": [
       "     radius_mean  texture_mean  perimeter_mean  area_mean  smoothness_mean  \\\n",
       "0       1.096100     -2.071512        1.268817   0.983510         1.567087   \n",
       "1       1.828212     -0.353322        1.684473   1.907030        -0.826235   \n",
       "2       1.578499      0.455786        1.565126   1.557513         0.941382   \n",
       "3      -0.768233      0.253509       -0.592166  -0.763792         3.280667   \n",
       "4       1.748758     -1.150804        1.775011   1.824624         0.280125   \n",
       "..           ...           ...             ...        ...              ...   \n",
       "564     2.109139      0.720838        2.058974   2.341795         1.040926   \n",
       "565     1.703356      2.083301        1.614511   1.722326         0.102368   \n",
       "566     0.701667      2.043775        0.672084   0.577445        -0.839745   \n",
       "567     1.836725      2.334403        1.980781   1.733693         1.524426   \n",
       "568    -1.806811      1.220718       -1.812793  -1.346604        -3.109349   \n",
       "\n",
       "     compactness_mean  concavity_mean  concave points_mean  symmetry_mean  \\\n",
       "0            3.280628        2.650542             2.530249       2.215566   \n",
       "1           -0.486643       -0.023825             0.547662       0.001391   \n",
       "2            1.052000        1.362280             2.035440       0.938859   \n",
       "3            3.399917        1.914213             1.450431       2.864862   \n",
       "4            0.538866        1.369806             1.427237      -0.009552   \n",
       "..                ...             ...                  ...            ...   \n",
       "564          0.218868        1.945573             2.318924      -0.312314   \n",
       "565         -0.017817        0.692434             1.262558      -0.217473   \n",
       "566         -0.038646        0.046547             0.105684      -0.808406   \n",
       "567          3.269267        3.294046             2.656528       2.135315   \n",
       "568         -1.149741       -1.113893            -1.260710      -0.819349   \n",
       "\n",
       "     fractal_dimension_mean  ...  radius_worst  texture_worst  \\\n",
       "0                  2.253764  ...      1.885031      -1.358098   \n",
       "1                 -0.867889  ...      1.804340      -0.368879   \n",
       "2                 -0.397658  ...      1.510541      -0.023953   \n",
       "3                  4.906602  ...     -0.281217       0.133866   \n",
       "4                 -0.561956  ...      1.297434      -1.465481   \n",
       "..                      ...  ...           ...            ...   \n",
       "564               -0.930209  ...      1.899514       0.117596   \n",
       "565               -1.057681  ...      1.535369       2.045599   \n",
       "566               -0.894800  ...      0.560868       1.373645   \n",
       "567                1.042778  ...      1.959515       2.235958   \n",
       "568               -0.560539  ...     -1.409652       0.763518   \n",
       "\n",
       "     perimeter_worst  area_worst  smoothness_worst  compactness_worst  \\\n",
       "0           2.301575    1.999478          1.306537           2.614365   \n",
       "1           1.533776    1.888827         -0.375282          -0.430066   \n",
       "2           1.346291    1.455004          0.526944           1.081980   \n",
       "3          -0.249720   -0.549538          3.391291           3.889975   \n",
       "4           1.337363    1.219651          0.220362          -0.313119   \n",
       "..               ...         ...               ...                ...   \n",
       "564         1.751022    2.013529          0.378033          -0.273077   \n",
       "565         1.420690    1.493644         -0.690623          -0.394473   \n",
       "566         0.578492    0.427529         -0.808876           0.350427   \n",
       "567         2.301575    1.651717          1.429169           3.901415   \n",
       "568        -1.431475   -1.074867         -1.857384          -1.206491   \n",
       "\n",
       "     concavity_worst  concave points_worst  symmetry_worst  \\\n",
       "0           2.107672              2.294058        2.748204   \n",
       "1          -0.146620              1.086129       -0.243675   \n",
       "2           0.854222              1.953282        1.151242   \n",
       "3           1.987839              2.173873        6.040726   \n",
       "4           0.612640              0.728618       -0.867590   \n",
       "..               ...                   ...             ...   \n",
       "564         0.663928              1.627719       -1.358963   \n",
       "565         0.236365              0.733182       -0.531387   \n",
       "566         0.326479              0.413705       -1.103578   \n",
       "567         3.194794              2.287972        1.917396   \n",
       "568        -1.304683             -1.743529       -0.048096   \n",
       "\n",
       "     fractal_dimension_worst  \n",
       "0                   1.935312  \n",
       "1                   0.280943  \n",
       "2                   0.201214  \n",
       "3                   4.930672  \n",
       "4                  -0.396751  \n",
       "..                       ...  \n",
       "564                -0.708467  \n",
       "565                -0.973122  \n",
       "566                -0.318129  \n",
       "567                 2.217684  \n",
       "568                -0.750546  \n",
       "\n",
       "[569 rows x 30 columns]"
      ]
     },
     "execution_count": 14,
     "metadata": {},
     "output_type": "execute_result"
    }
   ],
   "source": [
    "# copy the data\n",
    "X_z_score = X.copy()\n",
    "\n",
    "# apply normalization techniques\n",
    "for column in X_z_score.columns:\n",
    "    X_z_score[column] = (X_z_score[column] - X_z_score[column].mean()) / X_z_score[column].std() \n",
    "\n",
    "# view normalized data\n",
    "X_z_score\n"
   ]
  },
  {
   "cell_type": "markdown",
   "id": "23dbe7ac",
   "metadata": {},
   "source": [
    "## 3. Decimal Scalling"
   ]
  },
  {
   "cell_type": "markdown",
   "id": "553e789b",
   "metadata": {},
   "source": [
    "<center>\n",
    "<img src='https://d2mk45aasx86xg.cloudfront.net/Decimal_scaling_normalization_formula_59c16592d5.webp' width=350>\n",
    "</center>"
   ]
  },
  {
   "cell_type": "code",
   "execution_count": 15,
   "id": "be3bdf6c",
   "metadata": {},
   "outputs": [
    {
     "data": {
      "text/html": [
       "<div>\n",
       "<style scoped>\n",
       "    .dataframe tbody tr th:only-of-type {\n",
       "        vertical-align: middle;\n",
       "    }\n",
       "\n",
       "    .dataframe tbody tr th {\n",
       "        vertical-align: top;\n",
       "    }\n",
       "\n",
       "    .dataframe thead th {\n",
       "        text-align: right;\n",
       "    }\n",
       "</style>\n",
       "<table border=\"1\" class=\"dataframe\">\n",
       "  <thead>\n",
       "    <tr style=\"text-align: right;\">\n",
       "      <th></th>\n",
       "      <th>radius_mean</th>\n",
       "      <th>texture_mean</th>\n",
       "      <th>perimeter_mean</th>\n",
       "      <th>area_mean</th>\n",
       "      <th>smoothness_mean</th>\n",
       "      <th>compactness_mean</th>\n",
       "      <th>concavity_mean</th>\n",
       "      <th>concave points_mean</th>\n",
       "      <th>symmetry_mean</th>\n",
       "      <th>fractal_dimension_mean</th>\n",
       "      <th>...</th>\n",
       "      <th>radius_worst</th>\n",
       "      <th>texture_worst</th>\n",
       "      <th>perimeter_worst</th>\n",
       "      <th>area_worst</th>\n",
       "      <th>smoothness_worst</th>\n",
       "      <th>compactness_worst</th>\n",
       "      <th>concavity_worst</th>\n",
       "      <th>concave points_worst</th>\n",
       "      <th>symmetry_worst</th>\n",
       "      <th>fractal_dimension_worst</th>\n",
       "    </tr>\n",
       "  </thead>\n",
       "  <tbody>\n",
       "    <tr>\n",
       "      <th>0</th>\n",
       "      <td>0.1799</td>\n",
       "      <td>0.1038</td>\n",
       "      <td>0.12280</td>\n",
       "      <td>0.10010</td>\n",
       "      <td>0.011840</td>\n",
       "      <td>0.027760</td>\n",
       "      <td>0.030010</td>\n",
       "      <td>0.014710</td>\n",
       "      <td>0.02419</td>\n",
       "      <td>0.007871</td>\n",
       "      <td>...</td>\n",
       "      <td>0.25380</td>\n",
       "      <td>0.1733</td>\n",
       "      <td>0.18460</td>\n",
       "      <td>0.20190</td>\n",
       "      <td>0.016220</td>\n",
       "      <td>0.066560</td>\n",
       "      <td>0.07119</td>\n",
       "      <td>0.02654</td>\n",
       "      <td>0.04601</td>\n",
       "      <td>0.011890</td>\n",
       "    </tr>\n",
       "    <tr>\n",
       "      <th>1</th>\n",
       "      <td>0.2057</td>\n",
       "      <td>0.1777</td>\n",
       "      <td>0.13290</td>\n",
       "      <td>0.13260</td>\n",
       "      <td>0.008474</td>\n",
       "      <td>0.007864</td>\n",
       "      <td>0.008690</td>\n",
       "      <td>0.007017</td>\n",
       "      <td>0.01812</td>\n",
       "      <td>0.005667</td>\n",
       "      <td>...</td>\n",
       "      <td>0.24990</td>\n",
       "      <td>0.2341</td>\n",
       "      <td>0.15880</td>\n",
       "      <td>0.19560</td>\n",
       "      <td>0.012380</td>\n",
       "      <td>0.018660</td>\n",
       "      <td>0.02416</td>\n",
       "      <td>0.01860</td>\n",
       "      <td>0.02750</td>\n",
       "      <td>0.008902</td>\n",
       "    </tr>\n",
       "    <tr>\n",
       "      <th>2</th>\n",
       "      <td>0.1969</td>\n",
       "      <td>0.2125</td>\n",
       "      <td>0.13000</td>\n",
       "      <td>0.12030</td>\n",
       "      <td>0.010960</td>\n",
       "      <td>0.015990</td>\n",
       "      <td>0.019740</td>\n",
       "      <td>0.012790</td>\n",
       "      <td>0.02069</td>\n",
       "      <td>0.005999</td>\n",
       "      <td>...</td>\n",
       "      <td>0.23570</td>\n",
       "      <td>0.2553</td>\n",
       "      <td>0.15250</td>\n",
       "      <td>0.17090</td>\n",
       "      <td>0.014440</td>\n",
       "      <td>0.042450</td>\n",
       "      <td>0.04504</td>\n",
       "      <td>0.02430</td>\n",
       "      <td>0.03613</td>\n",
       "      <td>0.008758</td>\n",
       "    </tr>\n",
       "    <tr>\n",
       "      <th>3</th>\n",
       "      <td>0.1142</td>\n",
       "      <td>0.2038</td>\n",
       "      <td>0.07758</td>\n",
       "      <td>0.03861</td>\n",
       "      <td>0.014250</td>\n",
       "      <td>0.028390</td>\n",
       "      <td>0.024140</td>\n",
       "      <td>0.010520</td>\n",
       "      <td>0.02597</td>\n",
       "      <td>0.009744</td>\n",
       "      <td>...</td>\n",
       "      <td>0.14910</td>\n",
       "      <td>0.2650</td>\n",
       "      <td>0.09887</td>\n",
       "      <td>0.05677</td>\n",
       "      <td>0.020980</td>\n",
       "      <td>0.086630</td>\n",
       "      <td>0.06869</td>\n",
       "      <td>0.02575</td>\n",
       "      <td>0.06638</td>\n",
       "      <td>0.017300</td>\n",
       "    </tr>\n",
       "    <tr>\n",
       "      <th>4</th>\n",
       "      <td>0.2029</td>\n",
       "      <td>0.1434</td>\n",
       "      <td>0.13510</td>\n",
       "      <td>0.12970</td>\n",
       "      <td>0.010030</td>\n",
       "      <td>0.013280</td>\n",
       "      <td>0.019800</td>\n",
       "      <td>0.010430</td>\n",
       "      <td>0.01809</td>\n",
       "      <td>0.005883</td>\n",
       "      <td>...</td>\n",
       "      <td>0.22540</td>\n",
       "      <td>0.1667</td>\n",
       "      <td>0.15220</td>\n",
       "      <td>0.15750</td>\n",
       "      <td>0.013740</td>\n",
       "      <td>0.020500</td>\n",
       "      <td>0.04000</td>\n",
       "      <td>0.01625</td>\n",
       "      <td>0.02364</td>\n",
       "      <td>0.007678</td>\n",
       "    </tr>\n",
       "    <tr>\n",
       "      <th>...</th>\n",
       "      <td>...</td>\n",
       "      <td>...</td>\n",
       "      <td>...</td>\n",
       "      <td>...</td>\n",
       "      <td>...</td>\n",
       "      <td>...</td>\n",
       "      <td>...</td>\n",
       "      <td>...</td>\n",
       "      <td>...</td>\n",
       "      <td>...</td>\n",
       "      <td>...</td>\n",
       "      <td>...</td>\n",
       "      <td>...</td>\n",
       "      <td>...</td>\n",
       "      <td>...</td>\n",
       "      <td>...</td>\n",
       "      <td>...</td>\n",
       "      <td>...</td>\n",
       "      <td>...</td>\n",
       "      <td>...</td>\n",
       "      <td>...</td>\n",
       "    </tr>\n",
       "    <tr>\n",
       "      <th>564</th>\n",
       "      <td>0.2156</td>\n",
       "      <td>0.2239</td>\n",
       "      <td>0.14200</td>\n",
       "      <td>0.14790</td>\n",
       "      <td>0.011100</td>\n",
       "      <td>0.011590</td>\n",
       "      <td>0.024390</td>\n",
       "      <td>0.013890</td>\n",
       "      <td>0.01726</td>\n",
       "      <td>0.005623</td>\n",
       "      <td>...</td>\n",
       "      <td>0.25450</td>\n",
       "      <td>0.2640</td>\n",
       "      <td>0.16610</td>\n",
       "      <td>0.20270</td>\n",
       "      <td>0.014100</td>\n",
       "      <td>0.021130</td>\n",
       "      <td>0.04107</td>\n",
       "      <td>0.02216</td>\n",
       "      <td>0.02060</td>\n",
       "      <td>0.007115</td>\n",
       "    </tr>\n",
       "    <tr>\n",
       "      <th>565</th>\n",
       "      <td>0.2013</td>\n",
       "      <td>0.2825</td>\n",
       "      <td>0.13120</td>\n",
       "      <td>0.12610</td>\n",
       "      <td>0.009780</td>\n",
       "      <td>0.010340</td>\n",
       "      <td>0.014400</td>\n",
       "      <td>0.009791</td>\n",
       "      <td>0.01752</td>\n",
       "      <td>0.005533</td>\n",
       "      <td>...</td>\n",
       "      <td>0.23690</td>\n",
       "      <td>0.3825</td>\n",
       "      <td>0.15500</td>\n",
       "      <td>0.17310</td>\n",
       "      <td>0.011660</td>\n",
       "      <td>0.019220</td>\n",
       "      <td>0.03215</td>\n",
       "      <td>0.01628</td>\n",
       "      <td>0.02572</td>\n",
       "      <td>0.006637</td>\n",
       "    </tr>\n",
       "    <tr>\n",
       "      <th>566</th>\n",
       "      <td>0.1660</td>\n",
       "      <td>0.2808</td>\n",
       "      <td>0.10830</td>\n",
       "      <td>0.08581</td>\n",
       "      <td>0.008455</td>\n",
       "      <td>0.010230</td>\n",
       "      <td>0.009251</td>\n",
       "      <td>0.005302</td>\n",
       "      <td>0.01590</td>\n",
       "      <td>0.005648</td>\n",
       "      <td>...</td>\n",
       "      <td>0.18980</td>\n",
       "      <td>0.3412</td>\n",
       "      <td>0.12670</td>\n",
       "      <td>0.11240</td>\n",
       "      <td>0.011390</td>\n",
       "      <td>0.030940</td>\n",
       "      <td>0.03403</td>\n",
       "      <td>0.01418</td>\n",
       "      <td>0.02218</td>\n",
       "      <td>0.007820</td>\n",
       "    </tr>\n",
       "    <tr>\n",
       "      <th>567</th>\n",
       "      <td>0.2060</td>\n",
       "      <td>0.2933</td>\n",
       "      <td>0.14010</td>\n",
       "      <td>0.12650</td>\n",
       "      <td>0.011780</td>\n",
       "      <td>0.027700</td>\n",
       "      <td>0.035140</td>\n",
       "      <td>0.015200</td>\n",
       "      <td>0.02397</td>\n",
       "      <td>0.007016</td>\n",
       "      <td>...</td>\n",
       "      <td>0.25740</td>\n",
       "      <td>0.3942</td>\n",
       "      <td>0.18460</td>\n",
       "      <td>0.18210</td>\n",
       "      <td>0.016500</td>\n",
       "      <td>0.086810</td>\n",
       "      <td>0.09387</td>\n",
       "      <td>0.02650</td>\n",
       "      <td>0.04087</td>\n",
       "      <td>0.012400</td>\n",
       "    </tr>\n",
       "    <tr>\n",
       "      <th>568</th>\n",
       "      <td>0.0776</td>\n",
       "      <td>0.2454</td>\n",
       "      <td>0.04792</td>\n",
       "      <td>0.01810</td>\n",
       "      <td>0.005263</td>\n",
       "      <td>0.004362</td>\n",
       "      <td>0.000000</td>\n",
       "      <td>0.000000</td>\n",
       "      <td>0.01587</td>\n",
       "      <td>0.005884</td>\n",
       "      <td>...</td>\n",
       "      <td>0.09456</td>\n",
       "      <td>0.3037</td>\n",
       "      <td>0.05916</td>\n",
       "      <td>0.02686</td>\n",
       "      <td>0.008996</td>\n",
       "      <td>0.006444</td>\n",
       "      <td>0.00000</td>\n",
       "      <td>0.00000</td>\n",
       "      <td>0.02871</td>\n",
       "      <td>0.007039</td>\n",
       "    </tr>\n",
       "  </tbody>\n",
       "</table>\n",
       "<p>569 rows × 30 columns</p>\n",
       "</div>"
      ],
      "text/plain": [
       "     radius_mean  texture_mean  perimeter_mean  area_mean  smoothness_mean  \\\n",
       "0         0.1799        0.1038         0.12280    0.10010         0.011840   \n",
       "1         0.2057        0.1777         0.13290    0.13260         0.008474   \n",
       "2         0.1969        0.2125         0.13000    0.12030         0.010960   \n",
       "3         0.1142        0.2038         0.07758    0.03861         0.014250   \n",
       "4         0.2029        0.1434         0.13510    0.12970         0.010030   \n",
       "..           ...           ...             ...        ...              ...   \n",
       "564       0.2156        0.2239         0.14200    0.14790         0.011100   \n",
       "565       0.2013        0.2825         0.13120    0.12610         0.009780   \n",
       "566       0.1660        0.2808         0.10830    0.08581         0.008455   \n",
       "567       0.2060        0.2933         0.14010    0.12650         0.011780   \n",
       "568       0.0776        0.2454         0.04792    0.01810         0.005263   \n",
       "\n",
       "     compactness_mean  concavity_mean  concave points_mean  symmetry_mean  \\\n",
       "0            0.027760        0.030010             0.014710        0.02419   \n",
       "1            0.007864        0.008690             0.007017        0.01812   \n",
       "2            0.015990        0.019740             0.012790        0.02069   \n",
       "3            0.028390        0.024140             0.010520        0.02597   \n",
       "4            0.013280        0.019800             0.010430        0.01809   \n",
       "..                ...             ...                  ...            ...   \n",
       "564          0.011590        0.024390             0.013890        0.01726   \n",
       "565          0.010340        0.014400             0.009791        0.01752   \n",
       "566          0.010230        0.009251             0.005302        0.01590   \n",
       "567          0.027700        0.035140             0.015200        0.02397   \n",
       "568          0.004362        0.000000             0.000000        0.01587   \n",
       "\n",
       "     fractal_dimension_mean  ...  radius_worst  texture_worst  \\\n",
       "0                  0.007871  ...       0.25380         0.1733   \n",
       "1                  0.005667  ...       0.24990         0.2341   \n",
       "2                  0.005999  ...       0.23570         0.2553   \n",
       "3                  0.009744  ...       0.14910         0.2650   \n",
       "4                  0.005883  ...       0.22540         0.1667   \n",
       "..                      ...  ...           ...            ...   \n",
       "564                0.005623  ...       0.25450         0.2640   \n",
       "565                0.005533  ...       0.23690         0.3825   \n",
       "566                0.005648  ...       0.18980         0.3412   \n",
       "567                0.007016  ...       0.25740         0.3942   \n",
       "568                0.005884  ...       0.09456         0.3037   \n",
       "\n",
       "     perimeter_worst  area_worst  smoothness_worst  compactness_worst  \\\n",
       "0            0.18460     0.20190          0.016220           0.066560   \n",
       "1            0.15880     0.19560          0.012380           0.018660   \n",
       "2            0.15250     0.17090          0.014440           0.042450   \n",
       "3            0.09887     0.05677          0.020980           0.086630   \n",
       "4            0.15220     0.15750          0.013740           0.020500   \n",
       "..               ...         ...               ...                ...   \n",
       "564          0.16610     0.20270          0.014100           0.021130   \n",
       "565          0.15500     0.17310          0.011660           0.019220   \n",
       "566          0.12670     0.11240          0.011390           0.030940   \n",
       "567          0.18460     0.18210          0.016500           0.086810   \n",
       "568          0.05916     0.02686          0.008996           0.006444   \n",
       "\n",
       "     concavity_worst  concave points_worst  symmetry_worst  \\\n",
       "0            0.07119               0.02654         0.04601   \n",
       "1            0.02416               0.01860         0.02750   \n",
       "2            0.04504               0.02430         0.03613   \n",
       "3            0.06869               0.02575         0.06638   \n",
       "4            0.04000               0.01625         0.02364   \n",
       "..               ...                   ...             ...   \n",
       "564          0.04107               0.02216         0.02060   \n",
       "565          0.03215               0.01628         0.02572   \n",
       "566          0.03403               0.01418         0.02218   \n",
       "567          0.09387               0.02650         0.04087   \n",
       "568          0.00000               0.00000         0.02871   \n",
       "\n",
       "     fractal_dimension_worst  \n",
       "0                   0.011890  \n",
       "1                   0.008902  \n",
       "2                   0.008758  \n",
       "3                   0.017300  \n",
       "4                   0.007678  \n",
       "..                       ...  \n",
       "564                 0.007115  \n",
       "565                 0.006637  \n",
       "566                 0.007820  \n",
       "567                 0.012400  \n",
       "568                 0.007039  \n",
       "\n",
       "[569 rows x 30 columns]"
      ]
     },
     "execution_count": 15,
     "metadata": {},
     "output_type": "execute_result"
    }
   ],
   "source": [
    "# copy the data\n",
    "X_decimal_scalling = X.copy()\n",
    "\n",
    "# apply normalization techniques\n",
    "\n",
    "for column in X_decimal_scalling.columns:\n",
    "    j = len(str(int(X_decimal_scalling[column].abs().max())))\n",
    "    X_decimal_scalling[column] = X_decimal_scalling[column]  / (10**j)\n",
    "\n",
    "# view normalized data\n",
    "X_decimal_scalling"
   ]
  },
  {
   "cell_type": "markdown",
   "id": "4badec58",
   "metadata": {},
   "source": [
    "## Splitting of dataset in training and testing"
   ]
  },
  {
   "cell_type": "code",
   "execution_count": 16,
   "id": "c238896d",
   "metadata": {},
   "outputs": [],
   "source": [
    "x_train_min_max, x_test_min_max, y_train, y_test = train_test_split(X_min_max, Y, test_size=0.2, random_state=4)"
   ]
  },
  {
   "cell_type": "code",
   "execution_count": 17,
   "id": "99a0bf03",
   "metadata": {},
   "outputs": [],
   "source": [
    "x_train_z_score, x_test_z_score, y_train, y_test = train_test_split(X_z_score, Y, test_size=0.2, random_state=4)"
   ]
  },
  {
   "cell_type": "code",
   "execution_count": 18,
   "id": "dc3880ff",
   "metadata": {},
   "outputs": [],
   "source": [
    "x_train_decimal_scalling, x_test_decimal_scalling, y_train, y_test = train_test_split(X_decimal_scalling, Y, test_size=0.2, random_state=4)"
   ]
  },
  {
   "cell_type": "code",
   "execution_count": 19,
   "id": "5d641975",
   "metadata": {},
   "outputs": [],
   "source": [
    "x_train, x_test, y_train, y_test = train_test_split(X, Y, test_size=0.2, random_state=4)"
   ]
  },
  {
   "cell_type": "markdown",
   "id": "69773fa4",
   "metadata": {},
   "source": [
    "# Distance Metric"
   ]
  },
  {
   "cell_type": "markdown",
   "id": "8acd2d9c",
   "metadata": {},
   "source": [
    "The significance of picking the correct distance function winds up basic when we are managing high-dimensional information. The quality of how well a certain distance function fits a given problem might be firmly influenced by sparseness of data (Katayama & Satoh, 2001). Thus, we can say that selecting a ‘better’ distance function would play a crucial role in improving the performance of algorithms, particularly, distance-based algorithms such as KNN. For a KNN classifier, just the distances between each point and its nearby neighbourhood require be 'good' for it to perform well. Thus, undertaking the appropriate distance function used for choosing the closest neighbours can lead to a better classification of identifier to which family a particular point belongs, which can further improve the classifier’s performance.\n",
    "\n",
    "The above mentioned normalization techniques have been implemented for four distance functions. The chosen distance functions, where p = (p1, p2,...,pn) and q = (q1, q2,..., qn) are two points from i=1 to n, are as follows"
   ]
  },
  {
   "cell_type": "markdown",
   "id": "e4341bb5",
   "metadata": {},
   "source": [
    "## 1. Euclidean"
   ]
  },
  {
   "cell_type": "markdown",
   "id": "d66fa768",
   "metadata": {},
   "source": [
    "The Euclidean distance, between points p and q is the length of the line connecting them. It is the \"ordinary\" straight-line distance between two points in Euclidean space."
   ]
  },
  {
   "cell_type": "markdown",
   "id": "f9bd8357",
   "metadata": {},
   "source": [
    "<center>\n",
    "<img src='https://i.postimg.cc/w3K3Hy90/Screenshot-95.png' width=600>\n",
    "</center>"
   ]
  },
  {
   "cell_type": "markdown",
   "id": "ef98b1a4",
   "metadata": {},
   "source": [
    "<center>\n",
    "<img src='https://i.postimg.cc/YS5pgj7Z/1-v-At-QZb-ROu-Tdp36a-QQ8cq-BA.png' width=300>\n",
    "</center>"
   ]
  },
  {
   "cell_type": "markdown",
   "id": "56a04802",
   "metadata": {},
   "source": [
    "## 2. Manhattan"
   ]
  },
  {
   "cell_type": "markdown",
   "id": "957f2488",
   "metadata": {},
   "source": [
    "Manhattan distance is the distance between two points measured along axes at right angles. In other words, it is the total of the lengths of the projections of the line sections between the points onto the axes of the coordinate system.\n",
    "\n",
    "This distance, originally proposed by Minkowsky is defined as follows."
   ]
  },
  {
   "cell_type": "markdown",
   "id": "e2ae1122",
   "metadata": {},
   "source": [
    "<center>\n",
    "<img src='https://miro.medium.com/max/1018/0*w-nZf2E9hyJzkbk3.png' width=500>\n",
    "</center>"
   ]
  },
  {
   "cell_type": "markdown",
   "id": "9323fdc3",
   "metadata": {},
   "source": [
    "<center>\n",
    "<img src='https://i.postimg.cc/yd1LLy7Z/1-v-At-QZb-ROu-Tdp36a-QQ8cq-BA1.png' width=300>\n",
    "</center>"
   ]
  },
  {
   "cell_type": "markdown",
   "id": "f61676dc",
   "metadata": {},
   "source": [
    "## 3. Cosine"
   ]
  },
  {
   "cell_type": "markdown",
   "id": "e1836377",
   "metadata": {},
   "source": [
    "Cosine similarity is the measure of the cosine of the angle between the two non-zero vectors. Cosine distance is used to represent the complement in positive space, that is, D (d1,d2)=1-S(d1,d2), where D is the cosine distance and S is the cosine similarity. It can be formulated as follows"
   ]
  },
  {
   "cell_type": "markdown",
   "id": "eb390b76",
   "metadata": {},
   "source": [
    "<center>\n",
    "<img src='https://i.postimg.cc/DZ0LCXCN/EyCE2.png' width=500>\n",
    "</center>"
   ]
  },
  {
   "cell_type": "markdown",
   "id": "73c07954",
   "metadata": {},
   "source": [
    "<center>\n",
    "<img src='https://www.oreilly.com/library/view/statistics-for-machine/9781788295758/assets/2b4a7a82-ad4c-4b2a-b808-e423a334de6f.png' width=300>\n",
    "</center>"
   ]
  },
  {
   "cell_type": "markdown",
   "id": "b4f67492",
   "metadata": {},
   "source": [
    "## 4. Chebyshev"
   ]
  },
  {
   "cell_type": "markdown",
   "id": "2dd85d1c",
   "metadata": {},
   "source": [
    "It is a metric defined on a vector space where the distance between two vectors is the greatest of their differences along any coordinate dimension"
   ]
  },
  {
   "cell_type": "markdown",
   "id": "e0275da8",
   "metadata": {},
   "source": [
    "<center>\n",
    "<img src='https://miro.medium.com/max/1400/0*5DOF2orCTu85_o35.png' width=600>\n",
    "</center>"
   ]
  },
  {
   "cell_type": "markdown",
   "id": "11abc1a3",
   "metadata": {},
   "source": [
    "<center>\n",
    "<img src='https://miro.medium.com/max/562/1*v7_aLyWp8fFuIZ9H0WWfjQ.png' width=300>\n",
    "</center>"
   ]
  },
  {
   "cell_type": "markdown",
   "id": "7199936c",
   "metadata": {},
   "source": [
    "## Hunt for k value using Min-Max Normalization with different distance metric"
   ]
  },
  {
   "cell_type": "markdown",
   "id": "fe046847",
   "metadata": {},
   "source": [
    "### 1. Euclidean"
   ]
  },
  {
   "cell_type": "code",
   "execution_count": 20,
   "id": "21306a8d",
   "metadata": {},
   "outputs": [
    {
     "data": {
      "text/plain": [
       "Text(0, 0.5, 'Error Rate of Min-Max using Euclidean')"
      ]
     },
     "execution_count": 20,
     "metadata": {},
     "output_type": "execute_result"
    },
    {
     "data": {
      "image/png": "[encoded data removed]",
      "text/plain": [
       "<Figure size 720x432 with 1 Axes>"
      ]
     },
     "metadata": {
      "needs_background": "light"
     },
     "output_type": "display_data"
    }
   ],
   "source": [
    "#Using elbow method to pick a good K Value\n",
    "error_rate = []\n",
    "for i in range(1,40):\n",
    "    knn = KNeighborsClassifier(n_neighbors=i, metric = 'euclidean')\n",
    "    knn.fit(x_train_min_max,y_train.values.ravel())\n",
    "    pred_i = knn.predict(x_test_min_max)\n",
    "    error_rate.append(np.mean(pred_i != y_test.values.ravel()))\n",
    "#Plotting the graph\n",
    "plt.figure(figsize=(10,6))\n",
    "plt.plot(range(1,40),error_rate,color='blue', linestyle='dashed', marker='o', markerfacecolor='red', markersize=10)\n",
    "plt.title('Error Rate of Min-Max using Euclidean vs. K Value')\n",
    "plt.xlabel('K')\n",
    "plt.ylabel('Error Rate of Min-Max using Euclidean')"
   ]
  },
  {
   "cell_type": "markdown",
   "id": "ec65bb36",
   "metadata": {},
   "source": [
    "### 2. Manhattan"
   ]
  },
  {
   "cell_type": "code",
   "execution_count": 21,
   "id": "42012b05",
   "metadata": {},
   "outputs": [
    {
     "data": {
      "text/plain": [
       "Text(0, 0.5, 'Error Rate of Min-Max using Manhattan')"
      ]
     },
     "execution_count": 21,
     "metadata": {},
     "output_type": "execute_result"
    },
    {
     "data": {
      "image/png": "[encoded data removed]",
      "text/plain": [
       "<Figure size 720x432 with 1 Axes>"
      ]
     },
     "metadata": {
      "needs_background": "light"
     },
     "output_type": "display_data"
    }
   ],
   "source": [
    "#Using elbow method to pick a good K Value\n",
    "error_rate = []\n",
    "for i in range(1,40):\n",
    "    knn = KNeighborsClassifier(n_neighbors=i, metric = 'manhattan')\n",
    "    knn.fit(x_train_min_max,y_train.values.ravel())\n",
    "    pred_i = knn.predict(x_test_min_max)\n",
    "    error_rate.append(np.mean(pred_i != y_test.values.ravel()))\n",
    "#Plotting the graph\n",
    "plt.figure(figsize=(10,6))\n",
    "plt.plot(range(1,40),error_rate,color='blue', linestyle='dashed', marker='o', markerfacecolor='red', markersize=10)\n",
    "plt.title('Error Rate of Min-Max using Manhattan vs. K Value')\n",
    "plt.xlabel('K')\n",
    "plt.ylabel('Error Rate of Min-Max using Manhattan')"
   ]
  },
  {
   "cell_type": "markdown",
   "id": "fd00eeac",
   "metadata": {},
   "source": [
    "### 3. Cosine"
   ]
  },
  {
   "cell_type": "code",
   "execution_count": 22,
   "id": "cbe2537a",
   "metadata": {},
   "outputs": [
    {
     "data": {
      "text/plain": [
       "Text(0, 0.5, 'Error Rate of Min-Max using Cosine')"
      ]
     },
     "execution_count": 22,
     "metadata": {},
     "output_type": "execute_result"
    },
    {
     "data": {
      "image/png": "[encoded data removed]",
      "text/plain": [
       "<Figure size 720x432 with 1 Axes>"
      ]
     },
     "metadata": {
      "needs_background": "light"
     },
     "output_type": "display_data"
    }
   ],
   "source": [
    "#Using elbow method to pick a good K Value\n",
    "error_rate = []\n",
    "for i in range(1,40):\n",
    "    knn = KNeighborsClassifier(n_neighbors=i, metric = 'cosine')\n",
    "    knn.fit(x_train_min_max,y_train.values.ravel())\n",
    "    pred_i = knn.predict(x_test_min_max)\n",
    "    error_rate.append(np.mean(pred_i != y_test.values.ravel()))\n",
    "#Plotting the graph\n",
    "plt.figure(figsize=(10,6))\n",
    "plt.plot(range(1,40),error_rate,color='blue', linestyle='dashed', marker='o', markerfacecolor='red', markersize=10)\n",
    "plt.title('Error Rate of Min-Max using Cosine vs. K Value')\n",
    "plt.xlabel('K')\n",
    "plt.ylabel('Error Rate of Min-Max using Cosine')"
   ]
  },
  {
   "cell_type": "markdown",
   "id": "8a9933e7",
   "metadata": {},
   "source": [
    "### 4. Chebyshev"
   ]
  },
  {
   "cell_type": "code",
   "execution_count": 23,
   "id": "3a8fd8fb",
   "metadata": {},
   "outputs": [
    {
     "data": {
      "text/plain": [
       "Text(0, 0.5, 'Error Rate of Min-Max Chebyshev')"
      ]
     },
     "execution_count": 23,
     "metadata": {},
     "output_type": "execute_result"
    },
    {
     "data": {
      "image/png": "[encoded data removed]",
      "text/plain": [
       "<Figure size 720x432 with 1 Axes>"
      ]
     },
     "metadata": {
      "needs_background": "light"
     },
     "output_type": "display_data"
    }
   ],
   "source": [
    "#Using elbow method to pick a good K Value\n",
    "error_rate = []\n",
    "for i in range(1,40):\n",
    "    knn = KNeighborsClassifier(n_neighbors=i, metric = 'chebyshev')\n",
    "    knn.fit(x_train_min_max,y_train.values.ravel())\n",
    "    pred_i = knn.predict(x_test_min_max)\n",
    "    error_rate.append(np.mean(pred_i != y_test.values.ravel()))\n",
    "#Plotting the graph\n",
    "plt.figure(figsize=(10,6))\n",
    "plt.plot(range(1,40),error_rate,color='blue', linestyle='dashed', marker='o', markerfacecolor='red', markersize=10)\n",
    "plt.title('Error Rate of Min-Max using Chebyshev vs. K Value')\n",
    "plt.xlabel('K')\n",
    "plt.ylabel('Error Rate of Min-Max Chebyshev')"
   ]
  },
  {
   "cell_type": "markdown",
   "id": "65661966",
   "metadata": {},
   "source": [
    "## Hunt for k value using Z-Score Normalization with different distance metric"
   ]
  },
  {
   "cell_type": "markdown",
   "id": "93b0d6c6",
   "metadata": {},
   "source": [
    "### 1. Euclidean"
   ]
  },
  {
   "cell_type": "code",
   "execution_count": 24,
   "id": "1880a41a",
   "metadata": {},
   "outputs": [
    {
     "data": {
      "text/plain": [
       "Text(0, 0.5, 'Error Rate of Z-Score using Euclidean')"
      ]
     },
     "execution_count": 24,
     "metadata": {},
     "output_type": "execute_result"
    },
    {
     "data": {
      "image/png": "[encoded data removed]",
      "text/plain": [
       "<Figure size 720x432 with 1 Axes>"
      ]
     },
     "metadata": {
      "needs_background": "light"
     },
     "output_type": "display_data"
    }
   ],
   "source": [
    "#Using elbow method to pick a good K Value\n",
    "error_rate = []\n",
    "for i in range(1,40):\n",
    "    knn = KNeighborsClassifier(n_neighbors=i, metric = 'euclidean')\n",
    "    knn.fit(x_train_z_score,y_train.values.ravel())\n",
    "    pred_i = knn.predict(x_test_z_score)\n",
    "    error_rate.append(np.mean(pred_i != y_test.values.ravel()))\n",
    "#Plotting the graph\n",
    "plt.figure(figsize=(10,6))\n",
    "plt.plot(range(1,40),error_rate,color='blue', linestyle='dashed', marker='o', markerfacecolor='red', markersize=10)\n",
    "plt.title('Error Rate of Z-Score using Euclidean vs. K Value')\n",
    "plt.xlabel('K')\n",
    "plt.ylabel('Error Rate of Z-Score using Euclidean')"
   ]
  },
  {
   "cell_type": "markdown",
   "id": "f9465ffc",
   "metadata": {},
   "source": [
    "### 2. Manhattan"
   ]
  },
  {
   "cell_type": "code",
   "execution_count": 25,
   "id": "78860389",
   "metadata": {},
   "outputs": [
    {
     "data": {
      "text/plain": [
       "Text(0, 0.5, 'Error Rate of Z-Score using Manhattan')"
      ]
     },
     "execution_count": 25,
     "metadata": {},
     "output_type": "execute_result"
    },
    {
     "data": {
      "image/png": "[encoded data removed]",
      "text/plain": [
       "<Figure size 720x432 with 1 Axes>"
      ]
     },
     "metadata": {
      "needs_background": "light"
     },
     "output_type": "display_data"
    }
   ],
   "source": [
    "#Using elbow method to pick a good K Value\n",
    "error_rate = []\n",
    "for i in range(1,40):\n",
    "    knn = KNeighborsClassifier(n_neighbors=i, metric = 'manhattan')\n",
    "    knn.fit(x_train_z_score,y_train.values.ravel())\n",
    "    pred_i = knn.predict(x_test_z_score)\n",
    "    error_rate.append(np.mean(pred_i != y_test.values.ravel()))\n",
    "#Plotting the graph\n",
    "plt.figure(figsize=(10,6))\n",
    "plt.plot(range(1,40),error_rate,color='blue', linestyle='dashed', marker='o', markerfacecolor='red', markersize=10)\n",
    "plt.title('Error Rate of Z-Score using Manhattan vs. K Value')\n",
    "plt.xlabel('K')\n",
    "plt.ylabel('Error Rate of Z-Score using Manhattan')"
   ]
  },
  {
   "cell_type": "markdown",
   "id": "91dc80ef",
   "metadata": {},
   "source": [
    "### 3. Cosine"
   ]
  },
  {
   "cell_type": "code",
   "execution_count": 26,
   "id": "aad0b00b",
   "metadata": {},
   "outputs": [
    {
     "data": {
      "text/plain": [
       "Text(0, 0.5, 'Error Rate of Z-Score using Cosine')"
      ]
     },
     "execution_count": 26,
     "metadata": {},
     "output_type": "execute_result"
    },
    {
     "data": {
      "image/png": "[encoded data removed]",
      "text/plain": [
       "<Figure size 720x432 with 1 Axes>"
      ]
     },
     "metadata": {
      "needs_background": "light"
     },
     "output_type": "display_data"
    }
   ],
   "source": [
    "#Using elbow method to pick a good K Value\n",
    "error_rate = []\n",
    "for i in range(1,40):\n",
    "    knn = KNeighborsClassifier(n_neighbors=i, metric = 'cosine')\n",
    "    knn.fit(x_train_z_score,y_train.values.ravel())\n",
    "    pred_i = knn.predict(x_test_z_score)\n",
    "    error_rate.append(np.mean(pred_i != y_test.values.ravel()))\n",
    "#Plotting the graph\n",
    "plt.figure(figsize=(10,6))\n",
    "plt.plot(range(1,40),error_rate,color='blue', linestyle='dashed', marker='o', markerfacecolor='red', markersize=10)\n",
    "plt.title('Error Rate of Z-Score using Cosine vs. K Value')\n",
    "plt.xlabel('K')\n",
    "plt.ylabel('Error Rate of Z-Score using Cosine')"
   ]
  },
  {
   "cell_type": "markdown",
   "id": "a61a2cab",
   "metadata": {},
   "source": [
    "### 4. Chebyshev"
   ]
  },
  {
   "cell_type": "code",
   "execution_count": 27,
   "id": "0ee4ddc0",
   "metadata": {},
   "outputs": [
    {
     "data": {
      "text/plain": [
       "Text(0, 0.5, 'Error Rate of Z-Score using Chebyshev')"
      ]
     },
     "execution_count": 27,
     "metadata": {},
     "output_type": "execute_result"
    },
    {
     "data": {
      "image/png": "[encoded data removed]",
      "text/plain": [
       "<Figure size 720x432 with 1 Axes>"
      ]
     },
     "metadata": {
      "needs_background": "light"
     },
     "output_type": "display_data"
    }
   ],
   "source": [
    "#Using elbow method to pick a good K Value\n",
    "error_rate = []\n",
    "for i in range(1,40):\n",
    "    knn = KNeighborsClassifier(n_neighbors=i, metric = 'chebyshev')\n",
    "    knn.fit(x_train_z_score,y_train.values.ravel())\n",
    "    pred_i = knn.predict(x_test_z_score)\n",
    "    error_rate.append(np.mean(pred_i != y_test.values.ravel()))\n",
    "#Plotting the graph\n",
    "plt.figure(figsize=(10,6))\n",
    "plt.plot(range(1,40),error_rate,color='blue', linestyle='dashed', marker='o', markerfacecolor='red', markersize=10)\n",
    "plt.title('Error Rate of Z-Score using Chebyshev vs. K Value')\n",
    "plt.xlabel('K')\n",
    "plt.ylabel('Error Rate of Z-Score using Chebyshev')"
   ]
  },
  {
   "cell_type": "markdown",
   "id": "cce0d758",
   "metadata": {},
   "source": [
    "## Hunt for k value using Decimal Scalling Normalization with different distance metric"
   ]
  },
  {
   "cell_type": "markdown",
   "id": "742fd7af",
   "metadata": {},
   "source": [
    "### 1. Euclidean"
   ]
  },
  {
   "cell_type": "code",
   "execution_count": 28,
   "id": "2461612c",
   "metadata": {},
   "outputs": [
    {
     "data": {
      "text/plain": [
       "Text(0, 0.5, 'Error Rate of Decimal Scalling using Euclidean')"
      ]
     },
     "execution_count": 28,
     "metadata": {},
     "output_type": "execute_result"
    },
    {
     "data": {
      "image/png": "[encoded data removed]",
      "text/plain": [
       "<Figure size 720x432 with 1 Axes>"
      ]
     },
     "metadata": {
      "needs_background": "light"
     },
     "output_type": "display_data"
    }
   ],
   "source": [
    "#Using elbow method to pick a good K Value\n",
    "error_rate = []\n",
    "for i in range(1,40):\n",
    "    knn = KNeighborsClassifier(n_neighbors=i, metric = 'euclidean')\n",
    "    knn.fit(x_train_decimal_scalling,y_train.values.ravel())\n",
    "    pred_i = knn.predict(x_test_decimal_scalling)\n",
    "    error_rate.append(np.mean(pred_i != y_test.values.ravel()))\n",
    "#Plotting the graph\n",
    "plt.figure(figsize=(10,6))\n",
    "plt.plot(range(1,40),error_rate,color='blue', linestyle='dashed', marker='o', markerfacecolor='red', markersize=10)\n",
    "plt.title('Error Rate of Decimal Scalling using Euclidean vs. K Value')\n",
    "plt.xlabel('K')\n",
    "plt.ylabel('Error Rate of Decimal Scalling using Euclidean')"
   ]
  },
  {
   "cell_type": "markdown",
   "id": "3b3558f8",
   "metadata": {},
   "source": [
    "### 2. Manhattan"
   ]
  },
  {
   "cell_type": "code",
   "execution_count": 29,
   "id": "36500570",
   "metadata": {},
   "outputs": [
    {
     "data": {
      "text/plain": [
       "Text(0, 0.5, 'Error Rate of Decimal Scalling using Manhattan')"
      ]
     },
     "execution_count": 29,
     "metadata": {},
     "output_type": "execute_result"
    },
    {
     "data": {
      "image/png": "[encoded data removed]",
      "text/plain": [
       "<Figure size 720x432 with 1 Axes>"
      ]
     },
     "metadata": {
      "needs_background": "light"
     },
     "output_type": "display_data"
    }
   ],
   "source": [
    "#Using elbow method to pick a good K Value\n",
    "error_rate = []\n",
    "for i in range(1,40):\n",
    "    knn = KNeighborsClassifier(n_neighbors=i, metric = 'manhattan')\n",
    "    knn.fit(x_train_decimal_scalling,y_train.values.ravel())\n",
    "    pred_i = knn.predict(x_test_decimal_scalling)\n",
    "    error_rate.append(np.mean(pred_i != y_test.values.ravel()))\n",
    "#Plotting the graph\n",
    "plt.figure(figsize=(10,6))\n",
    "plt.plot(range(1,40),error_rate,color='blue', linestyle='dashed', marker='o', markerfacecolor='red', markersize=10)\n",
    "plt.title('Error Rate of Decimal Scalling using Manhattan vs. K Value')\n",
    "plt.xlabel('K')\n",
    "plt.ylabel('Error Rate of Decimal Scalling using Manhattan')"
   ]
  },
  {
   "cell_type": "markdown",
   "id": "a7f69eac",
   "metadata": {},
   "source": [
    "### 3. Cosine"
   ]
  },
  {
   "cell_type": "code",
   "execution_count": 30,
   "id": "4a90a88a",
   "metadata": {},
   "outputs": [
    {
     "data": {
      "text/plain": [
       "Text(0, 0.5, 'Error Rate of Decimal Scalling using Cosine')"
      ]
     },
     "execution_count": 30,
     "metadata": {},
     "output_type": "execute_result"
    },
    {
     "data": {
      "image/png": "[encoded data removed]",
      "text/plain": [
       "<Figure size 720x432 with 1 Axes>"
      ]
     },
     "metadata": {
      "needs_background": "light"
     },
     "output_type": "display_data"
    }
   ],
   "source": [
    "#Using elbow method to pick a good K Value\n",
    "error_rate = []\n",
    "for i in range(1,40):\n",
    "    knn = KNeighborsClassifier(n_neighbors=i, metric = 'cosine')\n",
    "    knn.fit(x_train_decimal_scalling,y_train.values.ravel())\n",
    "    pred_i = knn.predict(x_test_decimal_scalling)\n",
    "    error_rate.append(np.mean(pred_i != y_test.values.ravel()))\n",
    "#Plotting the graph\n",
    "plt.figure(figsize=(10,6))\n",
    "plt.plot(range(1,40),error_rate,color='blue', linestyle='dashed', marker='o', markerfacecolor='red', markersize=10)\n",
    "plt.title('Error Rate of Decimal Scalling using Cosine vs. K Value')\n",
    "plt.xlabel('K')\n",
    "plt.ylabel('Error Rate of Decimal Scalling using Cosine')"
   ]
  },
  {
   "cell_type": "markdown",
   "id": "a6594c4d",
   "metadata": {},
   "source": [
    "### 4. Chebyshev"
   ]
  },
  {
   "cell_type": "code",
   "execution_count": 31,
   "id": "1c165ba0",
   "metadata": {},
   "outputs": [
    {
     "data": {
      "text/plain": [
       "Text(0, 0.5, 'Error Rate of Decimal Scalling using Chebyshev')"
      ]
     },
     "execution_count": 31,
     "metadata": {},
     "output_type": "execute_result"
    },
    {
     "data": {
      "image/png": "[encoded data removed]",
      "text/plain": [
       "<Figure size 720x432 with 1 Axes>"
      ]
     },
     "metadata": {
      "needs_background": "light"
     },
     "output_type": "display_data"
    }
   ],
   "source": [
    "#Using elbow method to pick a good K Value\n",
    "error_rate = []\n",
    "for i in range(1,40):\n",
    "    knn = KNeighborsClassifier(n_neighbors=i, metric = 'chebyshev')\n",
    "    knn.fit(x_train_decimal_scalling,y_train.values.ravel())\n",
    "    pred_i = knn.predict(x_test_decimal_scalling)\n",
    "    error_rate.append(np.mean(pred_i != y_test.values.ravel()))\n",
    "#Plotting the graph\n",
    "plt.figure(figsize=(10,6))\n",
    "plt.plot(range(1,40),error_rate,color='blue', linestyle='dashed', marker='o', markerfacecolor='red', markersize=10)\n",
    "plt.title('Error Rate of Decimal Scalling using Chebyshev vs. K Value')\n",
    "plt.xlabel('K')\n",
    "plt.ylabel('Error Rate of Decimal Scalling using Chebyshev')"
   ]
  },
  {
   "cell_type": "markdown",
   "id": "dceaab02",
   "metadata": {},
   "source": [
    "# Accuracy"
   ]
  },
  {
   "cell_type": "markdown",
   "id": "cc337c24",
   "metadata": {},
   "source": [
    "## Min-Max Normalisation\n",
    "\n",
    "### Euclide as distance matric\n",
    "### K = 20"
   ]
  },
  {
   "cell_type": "code",
   "execution_count": 32,
   "id": "def7b038",
   "metadata": {},
   "outputs": [
    {
     "name": "stdout",
     "output_type": "stream",
     "text": [
      "[[80  0]\n",
      " [ 1 33]]\n"
     ]
    },
    {
     "data": {
      "text/plain": [
       "0.9912280701754386"
      ]
     },
     "execution_count": 32,
     "metadata": {},
     "output_type": "execute_result"
    }
   ],
   "source": [
    "knn_classifier_MinMAx_euclide = KNeighborsClassifier(n_neighbors = 20, metric = 'euclidean')\n",
    "knn_classifier_MinMAx_euclide.fit(x_train_min_max, y_train.values.ravel())\n",
    "\n",
    "y_pred_MinMax_euclide = knn_classifier_MinMAx_euclide.predict(x_test_min_max)\n",
    "\n",
    "cm = confusion_matrix(y_test, y_pred_MinMax_euclide)\n",
    "print(cm)\n",
    "accuracy_score(y_test, y_pred_MinMax_euclide)"
   ]
  },
  {
   "cell_type": "markdown",
   "id": "c91e171a",
   "metadata": {},
   "source": [
    "## Min-Max Normalisation\n",
    "\n",
    "### manhattan as distance matric\n",
    "### K = 26"
   ]
  },
  {
   "cell_type": "code",
   "execution_count": 33,
   "id": "6afa0d41",
   "metadata": {},
   "outputs": [
    {
     "name": "stdout",
     "output_type": "stream",
     "text": [
      "[[80  0]\n",
      " [ 1 33]]\n"
     ]
    },
    {
     "data": {
      "text/plain": [
       "0.9912280701754386"
      ]
     },
     "execution_count": 33,
     "metadata": {},
     "output_type": "execute_result"
    }
   ],
   "source": [
    "knn_classifier_MinMAx_manhattan = KNeighborsClassifier(n_neighbors = 26, metric = 'manhattan')\n",
    "knn_classifier_MinMAx_manhattan.fit(x_train_min_max, y_train.values.ravel())\n",
    "\n",
    "y_pred_MinMax_manhattan = knn_classifier_MinMAx_manhattan.predict(x_test_min_max)\n",
    "\n",
    "cm = confusion_matrix(y_test, y_pred_MinMax_manhattan)\n",
    "print(cm)\n",
    "accuracy_score(y_test, y_pred_MinMax_manhattan)"
   ]
  },
  {
   "cell_type": "markdown",
   "id": "43650eef",
   "metadata": {},
   "source": [
    "## Min-Max Normalisation\n",
    "\n",
    "### Cosine as distance matric\n",
    "### K = 4"
   ]
  },
  {
   "cell_type": "code",
   "execution_count": 34,
   "id": "2f96274d",
   "metadata": {},
   "outputs": [
    {
     "name": "stdout",
     "output_type": "stream",
     "text": [
      "[[74  6]\n",
      " [ 3 31]]\n"
     ]
    },
    {
     "data": {
      "text/plain": [
       "0.9210526315789473"
      ]
     },
     "execution_count": 34,
     "metadata": {},
     "output_type": "execute_result"
    }
   ],
   "source": [
    "knn_classifier_MinMAx_cosine = KNeighborsClassifier(n_neighbors = 4, metric = 'cosine')\n",
    "knn_classifier_MinMAx_cosine.fit(x_train_min_max, y_train.values.ravel())\n",
    "\n",
    "y_pred_MinMax_cosine = knn_classifier_MinMAx_cosine.predict(x_test_min_max)\n",
    "\n",
    "cm = confusion_matrix(y_test, y_pred_MinMax_cosine)\n",
    "print(cm)\n",
    "accuracy_score(y_test, y_pred_MinMax_cosine)"
   ]
  },
  {
   "cell_type": "markdown",
   "id": "5ee161ac",
   "metadata": {},
   "source": [
    "## Min-Max Normalisation\n",
    "\n",
    "### Chebyshev as distance matric\n",
    "### K = 18"
   ]
  },
  {
   "cell_type": "code",
   "execution_count": 35,
   "id": "3a44afaa",
   "metadata": {},
   "outputs": [
    {
     "name": "stdout",
     "output_type": "stream",
     "text": [
      "[[78  2]\n",
      " [ 0 34]]\n"
     ]
    },
    {
     "data": {
      "text/plain": [
       "0.9824561403508771"
      ]
     },
     "execution_count": 35,
     "metadata": {},
     "output_type": "execute_result"
    }
   ],
   "source": [
    "knn_classifier_MinMAx_chebyshev = KNeighborsClassifier(n_neighbors = 18, metric = 'chebyshev')\n",
    "knn_classifier_MinMAx_chebyshev.fit(x_train_min_max, y_train.values.ravel())\n",
    "\n",
    "y_pred_MinMax_chebyshev = knn_classifier_MinMAx_chebyshev.predict(x_test_min_max)\n",
    "\n",
    "cm = confusion_matrix(y_test, y_pred_MinMax_chebyshev)\n",
    "print(cm)\n",
    "accuracy_score(y_test, y_pred_MinMax_chebyshev)"
   ]
  },
  {
   "cell_type": "markdown",
   "id": "98b644db",
   "metadata": {},
   "source": [
    "## Z-Score Normalisation\n",
    "\n",
    "### Euclide as distance matric\n",
    "### K = 15"
   ]
  },
  {
   "cell_type": "code",
   "execution_count": 36,
   "id": "2eb3e74a",
   "metadata": {},
   "outputs": [
    {
     "name": "stdout",
     "output_type": "stream",
     "text": [
      "[[80  0]\n",
      " [ 1 33]]\n"
     ]
    },
    {
     "data": {
      "text/plain": [
       "0.9912280701754386"
      ]
     },
     "execution_count": 36,
     "metadata": {},
     "output_type": "execute_result"
    }
   ],
   "source": [
    "knn_classifier_z_score_euclide = KNeighborsClassifier(n_neighbors = 15, metric = 'euclidean')\n",
    "knn_classifier_z_score_euclide.fit(x_train_z_score, y_train.values.ravel())\n",
    "\n",
    "y_pred_z_score_euclide = knn_classifier_z_score_euclide.predict(x_test_z_score)\n",
    "\n",
    "cm = confusion_matrix(y_test, y_pred_z_score_euclide)\n",
    "print(cm)\n",
    "accuracy_score(y_test, y_pred_z_score_euclide)"
   ]
  },
  {
   "cell_type": "markdown",
   "id": "b7091a9f",
   "metadata": {},
   "source": [
    "## Z-ScoreNormalisation\n",
    "\n",
    "### Manhattan as distance matric\n",
    "### K = 34"
   ]
  },
  {
   "cell_type": "code",
   "execution_count": 37,
   "id": "5326be83",
   "metadata": {},
   "outputs": [
    {
     "name": "stdout",
     "output_type": "stream",
     "text": [
      "[[80  0]\n",
      " [ 1 33]]\n"
     ]
    },
    {
     "data": {
      "text/plain": [
       "0.9912280701754386"
      ]
     },
     "execution_count": 37,
     "metadata": {},
     "output_type": "execute_result"
    }
   ],
   "source": [
    "knn_classifier_z_score_manhattan = KNeighborsClassifier(n_neighbors = 34, metric = 'manhattan')\n",
    "knn_classifier_z_score_manhattan.fit(x_train_z_score, y_train.values.ravel())\n",
    "\n",
    "y_pred_z_score_manhattan = knn_classifier_z_score_manhattan.predict(x_test_z_score)\n",
    "\n",
    "cm = confusion_matrix(y_test, y_pred_z_score_manhattan)\n",
    "print(cm)\n",
    "accuracy_score(y_test, y_pred_z_score_manhattan)"
   ]
  },
  {
   "cell_type": "markdown",
   "id": "a35dbd8e",
   "metadata": {},
   "source": [
    "## Z-Score Normalisation\n",
    "\n",
    "### Cosine as distance matric\n",
    "### K = 20"
   ]
  },
  {
   "cell_type": "code",
   "execution_count": 38,
   "id": "defd1fac",
   "metadata": {},
   "outputs": [
    {
     "name": "stdout",
     "output_type": "stream",
     "text": [
      "[[77  3]\n",
      " [ 1 33]]\n"
     ]
    },
    {
     "data": {
      "text/plain": [
       "0.9649122807017544"
      ]
     },
     "execution_count": 38,
     "metadata": {},
     "output_type": "execute_result"
    }
   ],
   "source": [
    "knn_classifier_z_score_cosine = KNeighborsClassifier(n_neighbors = 20, metric = 'cosine')\n",
    "knn_classifier_z_score_cosine.fit(x_train_z_score, y_train.values.ravel())\n",
    "\n",
    "y_pred_z_score_cosine = knn_classifier_z_score_cosine.predict(x_test_z_score)\n",
    "\n",
    "cm = confusion_matrix(y_test, y_pred_z_score_cosine)\n",
    "print(cm)\n",
    "accuracy_score(y_test, y_pred_z_score_cosine)"
   ]
  },
  {
   "cell_type": "markdown",
   "id": "c479caa3",
   "metadata": {},
   "source": [
    "## Z-Score Normalisation\n",
    "\n",
    "### Chebyshev as distance matric\n",
    "### K = 21"
   ]
  },
  {
   "cell_type": "code",
   "execution_count": 39,
   "id": "e2e997e3",
   "metadata": {},
   "outputs": [
    {
     "name": "stdout",
     "output_type": "stream",
     "text": [
      "[[78  2]\n",
      " [ 2 32]]\n"
     ]
    },
    {
     "data": {
      "text/plain": [
       "0.9649122807017544"
      ]
     },
     "execution_count": 39,
     "metadata": {},
     "output_type": "execute_result"
    }
   ],
   "source": [
    "knn_classifier_z_score_chebyshev = KNeighborsClassifier(n_neighbors = 21, metric = 'chebyshev')\n",
    "knn_classifier_z_score_chebyshev.fit(x_train_z_score, y_train.values.ravel())\n",
    "\n",
    "y_pred_z_score_chebyshev = knn_classifier_z_score_chebyshev.predict(x_test_z_score)\n",
    "\n",
    "cm = confusion_matrix(y_test, y_pred_z_score_chebyshev)\n",
    "print(cm)\n",
    "accuracy_score(y_test, y_pred_z_score_chebyshev)"
   ]
  },
  {
   "cell_type": "markdown",
   "id": "d03401f2",
   "metadata": {},
   "source": [
    "## Decimal Scalling Normalisation\n",
    "\n",
    "### Euclide as distance matric\n",
    "### K = 8"
   ]
  },
  {
   "cell_type": "code",
   "execution_count": 40,
   "id": "23080667",
   "metadata": {},
   "outputs": [
    {
     "name": "stdout",
     "output_type": "stream",
     "text": [
      "[[79  1]\n",
      " [ 2 32]]\n"
     ]
    },
    {
     "data": {
      "text/plain": [
       "0.9736842105263158"
      ]
     },
     "execution_count": 40,
     "metadata": {},
     "output_type": "execute_result"
    }
   ],
   "source": [
    "knn_classifier_decimal_euclide = KNeighborsClassifier(n_neighbors = 8, metric = 'euclidean')\n",
    "knn_classifier_decimal_euclide.fit(x_train_decimal_scalling, y_train.values.ravel())\n",
    "\n",
    "y_pred_decimal_euclide = knn_classifier_decimal_euclide.predict(x_test_decimal_scalling)\n",
    "\n",
    "cm = confusion_matrix(y_test, y_pred_decimal_euclide)\n",
    "print(cm)\n",
    "accuracy_score(y_test, y_pred_decimal_euclide)"
   ]
  },
  {
   "cell_type": "markdown",
   "id": "3a0e1181",
   "metadata": {},
   "source": [
    "## Decimal Scalling Normalisation\n",
    "\n",
    "### Manhattan as distance matric\n",
    "### K = 10"
   ]
  },
  {
   "cell_type": "code",
   "execution_count": 41,
   "id": "e30213e6",
   "metadata": {},
   "outputs": [
    {
     "name": "stdout",
     "output_type": "stream",
     "text": [
      "[[77  3]\n",
      " [ 2 32]]\n"
     ]
    },
    {
     "data": {
      "text/plain": [
       "0.956140350877193"
      ]
     },
     "execution_count": 41,
     "metadata": {},
     "output_type": "execute_result"
    }
   ],
   "source": [
    "knn_classifier_decimal_manhattan = KNeighborsClassifier(n_neighbors = 10, metric = 'manhattan')\n",
    "knn_classifier_decimal_manhattan.fit(x_train_decimal_scalling, y_train.values.ravel())\n",
    "\n",
    "y_pred_decimal_manhattan = knn_classifier_decimal_manhattan.predict(x_test_decimal_scalling)\n",
    "\n",
    "cm = confusion_matrix(y_test, y_pred_decimal_manhattan)\n",
    "print(cm)\n",
    "accuracy_score(y_test, y_pred_decimal_manhattan)"
   ]
  },
  {
   "cell_type": "markdown",
   "id": "8acd785b",
   "metadata": {},
   "source": [
    "## Decimal Scalling Normalisation\n",
    "\n",
    "### Cosine as distance matric\n",
    "### K = 4"
   ]
  },
  {
   "cell_type": "code",
   "execution_count": 42,
   "id": "b641895b",
   "metadata": {},
   "outputs": [
    {
     "name": "stdout",
     "output_type": "stream",
     "text": [
      "[[77  3]\n",
      " [ 2 32]]\n"
     ]
    },
    {
     "data": {
      "text/plain": [
       "0.956140350877193"
      ]
     },
     "execution_count": 42,
     "metadata": {},
     "output_type": "execute_result"
    }
   ],
   "source": [
    "knn_classifier_decimal_cosine = KNeighborsClassifier(n_neighbors = 4, metric = 'cosine')\n",
    "knn_classifier_decimal_cosine.fit(x_train_decimal_scalling, y_train.values.ravel())\n",
    "\n",
    "y_pred_decimal_cosine = knn_classifier_decimal_cosine.predict(x_test_decimal_scalling)\n",
    "\n",
    "cm = confusion_matrix(y_test, y_pred_decimal_cosine)\n",
    "print(cm)\n",
    "accuracy_score(y_test, y_pred_decimal_cosine)"
   ]
  },
  {
   "cell_type": "markdown",
   "id": "bb4b41eb",
   "metadata": {},
   "source": [
    "## Decimal Scalling Normalisation\n",
    "\n",
    "### Chebyshev as distance matric\n",
    "### K = 4"
   ]
  },
  {
   "cell_type": "code",
   "execution_count": 43,
   "id": "2ba51e55",
   "metadata": {},
   "outputs": [
    {
     "name": "stdout",
     "output_type": "stream",
     "text": [
      "[[79  1]\n",
      " [ 3 31]]\n"
     ]
    },
    {
     "data": {
      "text/plain": [
       "0.9649122807017544"
      ]
     },
     "execution_count": 43,
     "metadata": {},
     "output_type": "execute_result"
    }
   ],
   "source": [
    "knn_classifier_decimal_chebyshev = KNeighborsClassifier(n_neighbors = 4, metric = 'chebyshev')\n",
    "knn_classifier_decimal_chebyshev.fit(x_train_decimal_scalling, y_train.values.ravel())\n",
    "\n",
    "y_pred_decimal_chebyshev = knn_classifier_decimal_chebyshev.predict(x_test_decimal_scalling)\n",
    "\n",
    "cm = confusion_matrix(y_test, y_pred_decimal_chebyshev)\n",
    "print(cm)\n",
    "accuracy_score(y_test, y_pred_decimal_chebyshev)"
   ]
  },
  {
   "cell_type": "markdown",
   "id": "412587e7",
   "metadata": {},
   "source": [
    "## Results\n",
    "\n",
    "### Accuracy for different distance metric with different normalization technique"
   ]
  },
  {
   "cell_type": "markdown",
   "id": "b1938c0a",
   "metadata": {},
   "source": [
    "<center>\n",
    "<img src='https://i.postimg.cc/W3jjXgZC/Screenshot-97.png' width=1000>\n",
    "</center>"
   ]
  },
  {
   "cell_type": "markdown",
   "id": "46077dd6",
   "metadata": {},
   "source": [
    "## Conclusion"
   ]
  },
  {
   "cell_type": "markdown",
   "id": "114d7044",
   "metadata": {},
   "source": [
    "K-Nearest Neighbour (KNN) algorithm has been implemented along with various normalization techniques and distance metrics. A significant improvement in the accuracy was noticed when different combinations of normalization techniques and distance were tested out against the dataset.\n",
    "\n",
    "The best accuracy achieved was 99.12 %. \n",
    "\n",
    "It is achieved when we used Z-Score Normalization technique along with Euclidean and Manhattan distance at K = 15 and K = 34 respectively.\n",
    "\n",
    "It is also achieved when we used Min/Max Normalization technique along with Euclidean and Manhattan distance at K = 20 and K= 26 respectively."
   ]
  },
  {
   "cell_type": "markdown",
   "id": "3fa357e1",
   "metadata": {},
   "source": [
    "## References\n",
    "\n",
    "### Chawla, Shagun and Kumar, Rajat and Aggarwal, Ekansh and Swain, Sarthak, Breast Cancer Detection Using K-Nearest Neighbour Algorithm (2018). International Journal of Computational Intelligence & IoT, Vol. 2, No. 4, 2018, Available at SSRN: https://ssrn.com/abstract=3361553"
   ]
  },
  {
   "cell_type": "markdown",
   "id": "96b3e912",
   "metadata": {},
   "source": [
    "## Biblography\n",
    "\n",
    "1. [kaggle](https://kaggle.com)\n",
    "\n",
    "2. [geeksforgeeks](https://www.geeksforgeeks.org/)\n",
    "\n",
    "3. [stackoverflow](https://stackoverflow.com/)\n",
    "\n",
    "4. [UCI Machine Learning Repository](https://archive.ics.uci.edu/ml/datasets.php)"
   ]
  }
 ],
 "metadata": {
  "kernelspec": {
   "display_name": "Python 3 (ipykernel)",
   "language": "python",
   "name": "python3"
  },
  "language_info": {
   "codemirror_mode": {
    "name": "ipython",
    "version": 3
   },
   "file_extension": ".py",
   "mimetype": "text/x-python",
   "name": "python",
   "nbconvert_exporter": "python",
   "pygments_lexer": "ipython3",
   "version": "3.9.7"
  }
 },
 "nbformat": 4,
 "nbformat_minor": 5
}
